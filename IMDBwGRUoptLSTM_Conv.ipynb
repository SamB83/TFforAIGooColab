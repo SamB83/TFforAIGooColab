{
  "nbformat": 4,
  "nbformat_minor": 0,
  "metadata": {
    "colab": {
      "name": "IMDBwGRUoptLSTM-Conv.ipynb",
      "version": "0.3.2",
      "provenance": [],
      "collapsed_sections": [],
      "include_colab_link": true
    },
    "kernelspec": {
      "name": "python3",
      "display_name": "Python 3"
    },
    "accelerator": "GPU"
  },
  "cells": [
    {
      "cell_type": "markdown",
      "metadata": {
        "id": "view-in-github",
        "colab_type": "text"
      },
      "source": [
        "<a href=\"https://colab.research.google.com/github/SamB83/TFforAIGooColab/blob/master/IMDBwGRUoptLSTM_Conv.ipynb\" target=\"_parent\"><img src=\"https://colab.research.google.com/assets/colab-badge.svg\" alt=\"Open In Colab\"/></a>"
      ]
    },
    {
      "cell_type": "code",
      "metadata": {
        "id": "P-AhVYeBWgQ3",
        "colab_type": "code",
        "colab": {
          "base_uri": "https://localhost:8080/",
          "height": 34
        },
        "outputId": "b106db51-e677-4193-ed37-38e3c2e0a8fe"
      },
      "source": [
        "# NOTE: PLEASE MAKE SURE YOU ARE RUNNING THIS IN A PYTHON3 ENVIRONMENT\n",
        "\n",
        "import tensorflow as tf\n",
        "print(tf.__version__)\n",
        "\n",
        "# This is needed for the iterator over the data\n",
        "# But not necessary if you have TF 2.0 installed\n",
        "#!pip install tensorflow==2.0.0-beta0\n",
        "\n",
        "\n",
        "#tf.enable_eager_execution()\n",
        "\n",
        "# !pip install -q tensorflow-datasets"
      ],
      "execution_count": 2,
      "outputs": [
        {
          "output_type": "stream",
          "text": [
            "2.0.0-beta0\n"
          ],
          "name": "stdout"
        }
      ]
    },
    {
      "cell_type": "code",
      "metadata": {
        "id": "_IoM4VFxWpMR",
        "colab_type": "code",
        "colab": {}
      },
      "source": [
        "import tensorflow_datasets as tfds\n",
        "imdb, info = tfds.load(\"imdb_reviews\", with_info=True, as_supervised=True)\n"
      ],
      "execution_count": 0,
      "outputs": []
    },
    {
      "cell_type": "code",
      "metadata": {
        "id": "wHQ2Ko0zl7M4",
        "colab_type": "code",
        "colab": {}
      },
      "source": [
        "import numpy as np\n",
        "\n",
        "train_data, test_data = imdb['train'], imdb['test']\n",
        "\n",
        "training_sentences = []\n",
        "training_labels = []\n",
        "\n",
        "testing_sentences = []\n",
        "testing_labels = []\n",
        "\n",
        "# str(s.tonumpy()) is needed in Python3 instead of just s.numpy()\n",
        "for s,l in train_data:\n",
        "  training_sentences.append(str(s.numpy()))\n",
        "  training_labels.append(l.numpy())\n",
        "  \n",
        "for s,l in test_data:\n",
        "  testing_sentences.append(str(s.numpy()))\n",
        "  testing_labels.append(l.numpy())\n",
        "  \n",
        "training_labels_final = np.array(training_labels)\n",
        "testing_labels_final = np.array(testing_labels)\n"
      ],
      "execution_count": 0,
      "outputs": []
    },
    {
      "cell_type": "code",
      "metadata": {
        "id": "7n15yyMdmoH1",
        "colab_type": "code",
        "colab": {}
      },
      "source": [
        "vocab_size = 10000\n",
        "embedding_dim = 16\n",
        "max_length = 120\n",
        "trunc_type='post'\n",
        "oov_tok = \"<OOV>\"\n",
        "\n",
        "\n",
        "from tensorflow.keras.preprocessing.text import Tokenizer\n",
        "from tensorflow.keras.preprocessing.sequence import pad_sequences\n",
        "\n",
        "tokenizer = Tokenizer(num_words = vocab_size, oov_token=oov_tok)\n",
        "tokenizer.fit_on_texts(training_sentences)\n",
        "word_index = tokenizer.word_index\n",
        "sequences = tokenizer.texts_to_sequences(training_sentences)\n",
        "padded = pad_sequences(sequences,maxlen=max_length, truncating=trunc_type)\n",
        "\n",
        "testing_sequences = tokenizer.texts_to_sequences(testing_sentences)\n",
        "testing_padded = pad_sequences(testing_sequences,maxlen=max_length)\n",
        "\n"
      ],
      "execution_count": 0,
      "outputs": []
    },
    {
      "cell_type": "code",
      "metadata": {
        "colab_type": "code",
        "id": "9axf0uIXVMhO",
        "colab": {
          "base_uri": "https://localhost:8080/",
          "height": 71
        },
        "outputId": "860ed0e7-f3b2-4b78-bb53-561bc65d62cc"
      },
      "source": [
        "reverse_word_index = dict([(value, key) for (key, value) in word_index.items()])\n",
        "\n",
        "def decode_review(text):\n",
        "    return ' '.join([reverse_word_index.get(i, '?') for i in text])\n",
        "\n",
        "print(decode_review(padded[1]))\n",
        "print(training_sentences[1])"
      ],
      "execution_count": 6,
      "outputs": [
        {
          "output_type": "stream",
          "text": [
            "b being a fan of silent films i looked forward to seeing this picture for the first time i was pretty disappointed br br as has been mentioned the film seems to be one long long commercial for the <OOV> <OOV> br br perhaps if the chase scene was about half the length that it is i may have enjoyed the film more but it got old very fast and while i recognize that reality is stretched many times in films without <OOV> a <OOV> enjoyment what was with the mexican <OOV> i mean they are chasing a car through the mountains a car that most of the time is moving at about one mile per hour yet they can't\n",
            "b\"Being a fan of silent films, I looked forward to seeing this picture for the first time. I was pretty disappointed. <br /><br />As has been mentioned, the film seems to be one long, long, commercial for the Maxwell automobile. <br /><br />Perhaps if the chase scene was about half the length that it is, I may have enjoyed the film more. But it got old very fast. And while I recognize that reality is stretched many times in films, without lessening a viewer's enjoyment, what was with the Mexican bandits? I mean, they are chasing a car through the mountains, a car that most of the time is moving at about one mile per hour, yet they can't catch up to it?\"\n"
          ],
          "name": "stdout"
        }
      ]
    },
    {
      "cell_type": "code",
      "metadata": {
        "id": "5NEpdhb8AxID",
        "colab_type": "code",
        "colab": {
          "base_uri": "https://localhost:8080/",
          "height": 289
        },
        "outputId": "f383a115-746e-45fa-a5e0-9b21ec39876b"
      },
      "source": [
        "model = tf.keras.Sequential([\n",
        "    tf.keras.layers.Embedding(vocab_size, embedding_dim, input_length=max_length),\n",
        "    tf.keras.layers.Bidirectional(tf.keras.layers.GRU(32)),\n",
        "    tf.keras.layers.Dense(6, activation='relu'),\n",
        "    tf.keras.layers.Dense(1, activation='sigmoid')\n",
        "])\n",
        "model.compile(loss='binary_crossentropy',optimizer='adam',metrics=['accuracy'])\n",
        "model.summary()\n"
      ],
      "execution_count": 7,
      "outputs": [
        {
          "output_type": "stream",
          "text": [
            "Model: \"sequential\"\n",
            "_________________________________________________________________\n",
            "Layer (type)                 Output Shape              Param #   \n",
            "=================================================================\n",
            "embedding (Embedding)        (None, 120, 16)           160000    \n",
            "_________________________________________________________________\n",
            "bidirectional (Bidirectional (None, 64)                9600      \n",
            "_________________________________________________________________\n",
            "dense (Dense)                (None, 6)                 390       \n",
            "_________________________________________________________________\n",
            "dense_1 (Dense)              (None, 1)                 7         \n",
            "=================================================================\n",
            "Total params: 169,997\n",
            "Trainable params: 169,997\n",
            "Non-trainable params: 0\n",
            "_________________________________________________________________\n"
          ],
          "name": "stdout"
        }
      ]
    },
    {
      "cell_type": "code",
      "metadata": {
        "id": "V5LLrXC-uNX6",
        "colab_type": "code",
        "colab": {
          "base_uri": "https://localhost:8080/",
          "height": 1000
        },
        "outputId": "ac54277e-7ce2-424f-bcb0-ed1975a96c1e"
      },
      "source": [
        "num_epochs = 50\n",
        "history = model.fit(padded, training_labels_final, epochs=num_epochs, validation_data=(testing_padded, testing_labels_final))"
      ],
      "execution_count": 8,
      "outputs": [
        {
          "output_type": "stream",
          "text": [
            "W0708 16:09:53.530792 140735985201984 deprecation.py:323] From /Users/samarth/anaconda/envs/ipykernel_py3/lib/python3.7/site-packages/tensorflow/python/ops/math_grad.py:1250: add_dispatch_support.<locals>.wrapper (from tensorflow.python.ops.array_ops) is deprecated and will be removed in a future version.\n",
            "Instructions for updating:\n",
            "Use tf.where in 2.0, which has the same broadcast rule as np.where\n"
          ],
          "name": "stderr"
        },
        {
          "output_type": "stream",
          "text": [
            "Train on 25000 samples, validate on 25000 samples\n",
            "Epoch 1/50\n",
            "25000/25000 [==============================] - 96s 4ms/sample - loss: 0.6927 - accuracy: 0.5063 - val_loss: 0.6138 - val_accuracy: 0.6659\n",
            "Epoch 2/50\n",
            "25000/25000 [==============================] - 97s 4ms/sample - loss: 0.4294 - accuracy: 0.8068 - val_loss: 0.3677 - val_accuracy: 0.8419\n",
            "Epoch 3/50\n",
            "25000/25000 [==============================] - 100s 4ms/sample - loss: 0.2872 - accuracy: 0.8866 - val_loss: 0.3711 - val_accuracy: 0.8450\n",
            "Epoch 4/50\n",
            "25000/25000 [==============================] - 114s 5ms/sample - loss: 0.2254 - accuracy: 0.9147 - val_loss: 0.4006 - val_accuracy: 0.8461\n",
            "Epoch 5/50\n",
            "25000/25000 [==============================] - 115s 5ms/sample - loss: 0.1700 - accuracy: 0.9386 - val_loss: 0.4304 - val_accuracy: 0.8413\n",
            "Epoch 6/50\n",
            "25000/25000 [==============================] - 114s 5ms/sample - loss: 0.1148 - accuracy: 0.9614 - val_loss: 0.5197 - val_accuracy: 0.8347\n",
            "Epoch 7/50\n",
            "25000/25000 [==============================] - 112s 4ms/sample - loss: 0.0748 - accuracy: 0.9763 - val_loss: 0.7193 - val_accuracy: 0.8279\n",
            "Epoch 8/50\n",
            "25000/25000 [==============================] - 112s 4ms/sample - loss: 0.0469 - accuracy: 0.9856 - val_loss: 0.8083 - val_accuracy: 0.8254\n",
            "Epoch 9/50\n",
            "25000/25000 [==============================] - 113s 5ms/sample - loss: 0.0325 - accuracy: 0.9905 - val_loss: 0.9870 - val_accuracy: 0.8216\n",
            "Epoch 10/50\n",
            "25000/25000 [==============================] - 118s 5ms/sample - loss: 0.0221 - accuracy: 0.9932 - val_loss: 0.9246 - val_accuracy: 0.8176\n",
            "Epoch 11/50\n",
            "25000/25000 [==============================] - 130s 5ms/sample - loss: 0.0189 - accuracy: 0.9942 - val_loss: 1.0290 - val_accuracy: 0.8209\n",
            "Epoch 12/50\n",
            "25000/25000 [==============================] - 124s 5ms/sample - loss: 0.0178 - accuracy: 0.9941 - val_loss: 1.0722 - val_accuracy: 0.8176\n",
            "Epoch 13/50\n",
            "25000/25000 [==============================] - 148s 6ms/sample - loss: 0.0134 - accuracy: 0.9955 - val_loss: 1.1746 - val_accuracy: 0.8216\n",
            "Epoch 14/50\n",
            "25000/25000 [==============================] - 126s 5ms/sample - loss: 0.0110 - accuracy: 0.9966 - val_loss: 1.2146 - val_accuracy: 0.8182\n",
            "Epoch 15/50\n",
            "25000/25000 [==============================] - 129s 5ms/sample - loss: 0.0074 - accuracy: 0.9978 - val_loss: 1.2539 - val_accuracy: 0.8223\n",
            "Epoch 16/50\n",
            "25000/25000 [==============================] - 115s 5ms/sample - loss: 0.0093 - accuracy: 0.9971 - val_loss: 1.2207 - val_accuracy: 0.8193\n",
            "Epoch 17/50\n",
            "25000/25000 [==============================] - 138s 6ms/sample - loss: 0.0078 - accuracy: 0.9974 - val_loss: 1.2368 - val_accuracy: 0.8245\n",
            "Epoch 18/50\n",
            "25000/25000 [==============================] - 127s 5ms/sample - loss: 0.0071 - accuracy: 0.9976 - val_loss: 1.2862 - val_accuracy: 0.8170\n",
            "Epoch 19/50\n",
            "25000/25000 [==============================] - 152s 6ms/sample - loss: 0.0060 - accuracy: 0.9979 - val_loss: 1.4324 - val_accuracy: 0.8235\n",
            "Epoch 20/50\n",
            "25000/25000 [==============================] - 135s 5ms/sample - loss: 0.0084 - accuracy: 0.9971 - val_loss: 1.4004 - val_accuracy: 0.8194\n",
            "Epoch 21/50\n",
            "25000/25000 [==============================] - 132s 5ms/sample - loss: 0.0068 - accuracy: 0.9977 - val_loss: 1.3087 - val_accuracy: 0.8196\n",
            "Epoch 22/50\n",
            "25000/25000 [==============================] - 127s 5ms/sample - loss: 0.0047 - accuracy: 0.9982 - val_loss: 1.4237 - val_accuracy: 0.8141\n",
            "Epoch 23/50\n",
            "25000/25000 [==============================] - 156s 6ms/sample - loss: 0.0041 - accuracy: 0.9987 - val_loss: 1.4398 - val_accuracy: 0.8222\n",
            "Epoch 24/50\n",
            "25000/25000 [==============================] - 153s 6ms/sample - loss: 0.0051 - accuracy: 0.9982 - val_loss: 1.4877 - val_accuracy: 0.8104\n",
            "Epoch 25/50\n",
            "25000/25000 [==============================] - 125s 5ms/sample - loss: 0.0055 - accuracy: 0.9982 - val_loss: 1.6094 - val_accuracy: 0.8136\n",
            "Epoch 26/50\n",
            "25000/25000 [==============================] - 119s 5ms/sample - loss: 0.0060 - accuracy: 0.9981 - val_loss: 1.4854 - val_accuracy: 0.8159\n",
            "Epoch 27/50\n",
            "25000/25000 [==============================] - 118s 5ms/sample - loss: 0.0047 - accuracy: 0.9983 - val_loss: 1.5194 - val_accuracy: 0.7978\n",
            "Epoch 28/50\n",
            "25000/25000 [==============================] - 118s 5ms/sample - loss: 0.0051 - accuracy: 0.9981 - val_loss: 1.4134 - val_accuracy: 0.8194\n",
            "Epoch 29/50\n",
            "25000/25000 [==============================] - 116s 5ms/sample - loss: 0.0033 - accuracy: 0.9989 - val_loss: 1.4211 - val_accuracy: 0.8145\n",
            "Epoch 30/50\n",
            "25000/25000 [==============================] - 116s 5ms/sample - loss: 7.4431e-04 - accuracy: 0.9998 - val_loss: 1.4745 - val_accuracy: 0.8151\n",
            "Epoch 31/50\n",
            "25000/25000 [==============================] - 117s 5ms/sample - loss: 0.0016 - accuracy: 0.9995 - val_loss: 1.4863 - val_accuracy: 0.8118\n",
            "Epoch 32/50\n",
            "25000/25000 [==============================] - 132s 5ms/sample - loss: 0.0068 - accuracy: 0.9974 - val_loss: 1.3877 - val_accuracy: 0.8131\n",
            "Epoch 33/50\n",
            "25000/25000 [==============================] - 134s 5ms/sample - loss: 0.0019 - accuracy: 0.9991 - val_loss: 1.5250 - val_accuracy: 0.8184\n",
            "Epoch 34/50\n",
            "25000/25000 [==============================] - 148s 6ms/sample - loss: 0.0025 - accuracy: 0.9991 - val_loss: 1.5058 - val_accuracy: 0.8186\n",
            "Epoch 35/50\n",
            "25000/25000 [==============================] - 143s 6ms/sample - loss: 0.0014 - accuracy: 0.9994 - val_loss: 1.5980 - val_accuracy: 0.8188\n",
            "Epoch 36/50\n",
            "25000/25000 [==============================] - 143s 6ms/sample - loss: 1.2186e-04 - accuracy: 1.0000 - val_loss: 1.6609 - val_accuracy: 0.8153\n",
            "Epoch 37/50\n",
            "25000/25000 [==============================] - 135s 5ms/sample - loss: 2.1138e-05 - accuracy: 1.0000 - val_loss: 1.6745 - val_accuracy: 0.8178\n",
            "Epoch 38/50\n",
            "25000/25000 [==============================] - 163s 7ms/sample - loss: 1.0776e-05 - accuracy: 1.0000 - val_loss: 1.7069 - val_accuracy: 0.8183\n",
            "Epoch 39/50\n",
            "25000/25000 [==============================] - 139s 6ms/sample - loss: 7.3310e-06 - accuracy: 1.0000 - val_loss: 1.7383 - val_accuracy: 0.8185\n",
            "Epoch 40/50\n",
            "25000/25000 [==============================] - 141s 6ms/sample - loss: 5.1424e-06 - accuracy: 1.0000 - val_loss: 1.7679 - val_accuracy: 0.8187\n",
            "Epoch 41/50\n",
            "25000/25000 [==============================] - 134s 5ms/sample - loss: 3.5872e-06 - accuracy: 1.0000 - val_loss: 1.7979 - val_accuracy: 0.8187\n",
            "Epoch 42/50\n",
            "25000/25000 [==============================] - 139s 6ms/sample - loss: 2.4727e-06 - accuracy: 1.0000 - val_loss: 1.8284 - val_accuracy: 0.8185\n",
            "Epoch 43/50\n",
            "25000/25000 [==============================] - 149s 6ms/sample - loss: 1.6970e-06 - accuracy: 1.0000 - val_loss: 1.8580 - val_accuracy: 0.8186\n",
            "Epoch 44/50\n",
            "25000/25000 [==============================] - 362s 14ms/sample - loss: 1.1493e-06 - accuracy: 1.0000 - val_loss: 1.8853 - val_accuracy: 0.8186\n",
            "Epoch 45/50\n",
            "25000/25000 [==============================] - 275s 11ms/sample - loss: 7.7007e-07 - accuracy: 1.0000 - val_loss: 1.9148 - val_accuracy: 0.8186\n",
            "Epoch 46/50\n",
            "25000/25000 [==============================] - 191s 8ms/sample - loss: 5.0882e-07 - accuracy: 1.0000 - val_loss: 1.9440 - val_accuracy: 0.8182\n",
            "Epoch 47/50\n",
            "25000/25000 [==============================] - 154s 6ms/sample - loss: 3.3567e-07 - accuracy: 1.0000 - val_loss: 1.9711 - val_accuracy: 0.8185\n",
            "Epoch 48/50\n",
            "25000/25000 [==============================] - 161s 6ms/sample - loss: 2.1875e-07 - accuracy: 1.0000 - val_loss: 1.9967 - val_accuracy: 0.8187\n",
            "Epoch 49/50\n",
            "25000/25000 [==============================] - 144s 6ms/sample - loss: 1.4112e-07 - accuracy: 1.0000 - val_loss: 2.0212 - val_accuracy: 0.8189\n",
            "Epoch 50/50\n",
            "25000/25000 [==============================] - 143s 6ms/sample - loss: 9.0413e-08 - accuracy: 1.0000 - val_loss: 2.0457 - val_accuracy: 0.8187\n"
          ],
          "name": "stdout"
        }
      ]
    },
    {
      "cell_type": "code",
      "metadata": {
        "id": "nHGYuU4jPYaj",
        "colab_type": "code",
        "colab": {
          "base_uri": "https://localhost:8080/",
          "height": 549
        },
        "outputId": "c24359d6-5f86-4b0c-94c2-9014b258b2ca"
      },
      "source": [
        "import matplotlib.pyplot as plt\n",
        "\n",
        "\n",
        "def plot_graphs(history, string):\n",
        "  plt.plot(history.history[string])\n",
        "  plt.plot(history.history['val_'+string])\n",
        "  plt.xlabel(\"Epochs\")\n",
        "  plt.ylabel(string)\n",
        "  plt.legend([string, 'val_'+string])\n",
        "  plt.show()\n",
        "\n",
        "plot_graphs(history, 'accuracy')\n",
        "plot_graphs(history, 'loss')"
      ],
      "execution_count": 10,
      "outputs": [
        {
          "output_type": "display_data",
          "data": {
            "text/plain": [
              "<Figure size 432x288 with 1 Axes>"
            ],
            "image/png": "[encoded data removed]"
          },
          "metadata": {
            "tags": [],
            "needs_background": "light"
          }
        },
        {
          "output_type": "display_data",
          "data": {
            "text/plain": [
              "<Figure size 432x288 with 1 Axes>"
            ],
            "image/png": "[encoded data removed]"
          },
          "metadata": {
            "tags": [],
            "needs_background": "light"
          }
        }
      ]
    },
    {
      "cell_type": "code",
      "metadata": {
        "id": "wSualgGPPK0S",
        "colab_type": "code",
        "colab": {}
      },
      "source": [
        "# Model Definition with LSTM\n",
        "model = tf.keras.Sequential([\n",
        "    tf.keras.layers.Embedding(vocab_size, embedding_dim, input_length=max_length),\n",
        "    tf.keras.layers.Bidirectional(tf.keras.layers.LSTM(32)),\n",
        "    tf.keras.layers.Dense(6, activation='relu'),\n",
        "    tf.keras.layers.Dense(1, activation='sigmoid')\n",
        "])\n",
        "model.compile(loss='binary_crossentropy',optimizer='adam',metrics=['accuracy'])\n",
        "model.summary()\n"
      ],
      "execution_count": 0,
      "outputs": []
    },
    {
      "cell_type": "code",
      "metadata": {
        "id": "K_Jc7cY3Qxke",
        "colab_type": "code",
        "colab": {}
      },
      "source": [
        "# Model Definition with Conv1D\n",
        "model = tf.keras.Sequential([\n",
        "    tf.keras.layers.Embedding(vocab_size, embedding_dim, input_length=max_length),\n",
        "    tf.keras.layers.Conv1D(128, 5, activation='relu'),\n",
        "    tf.keras.layers.GlobalAveragePooling1D(),\n",
        "    tf.keras.layers.Dense(6, activation='relu'),\n",
        "    tf.keras.layers.Dense(1, activation='sigmoid')\n",
        "])\n",
        "model.compile(loss='binary_crossentropy',optimizer='adam',metrics=['accuracy'])\n",
        "model.summary()\n"
      ],
      "execution_count": 0,
      "outputs": []
    }
  ]
}