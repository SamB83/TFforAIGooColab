{
  "nbformat": 4,
  "nbformat_minor": 0,
  "metadata": {
    "colab": {
      "name": "SarcasmwBidirecLSTM.ipynb",
      "version": "0.3.2",
      "provenance": [],
      "collapsed_sections": [],
      "include_colab_link": true
    },
    "kernelspec": {
      "name": "python3",
      "display_name": "Python 3"
    },
    "accelerator": "GPU"
  },
  "cells": [
    {
      "cell_type": "markdown",
      "metadata": {
        "id": "view-in-github",
        "colab_type": "text"
      },
      "source": [
        "<a href=\"https://colab.research.google.com/github/SamB83/TFforAIGooColab/blob/master/SarcasmwBidirecLSTM.ipynb\" target=\"_parent\"><img src=\"https://colab.research.google.com/assets/colab-badge.svg\" alt=\"Open In Colab\"/></a>"
      ]
    },
    {
      "cell_type": "code",
      "metadata": {
        "id": "jGwXGIXvFhXW",
        "colab_type": "code",
        "colab": {
          "base_uri": "https://localhost:8080/",
          "height": 1000
        },
        "outputId": "f0a42424-89bd-45c7-8067-cf1bd1722d51"
      },
      "source": [
        "import json\n",
        "import tensorflow as tf\n",
        "\n",
        "from tensorflow.keras.preprocessing.text import Tokenizer\n",
        "from tensorflow.keras.preprocessing.sequence import pad_sequences\n",
        "\n",
        "!wget --no-check-certificate \\\n",
        "    https://storage.googleapis.com/laurencemoroney-blog.appspot.com/sarcasm.json \\\n",
        "    -O /tmp/sarcasm.json\n",
        "\n",
        "vocab_size = 1000\n",
        "embedding_dim = 16\n",
        "max_length = 120\n",
        "trunc_type='post'\n",
        "padding_type='post'\n",
        "oov_tok = \"<OOV>\"\n",
        "training_size = 20000\n",
        "\n",
        "\n",
        "with open(\"/tmp/sarcasm.json\", 'r') as f:\n",
        "    datastore = json.load(f)\n",
        "\n",
        "\n",
        "sentences = []\n",
        "labels = []\n",
        "urls = []\n",
        "for item in datastore:\n",
        "    sentences.append(item['headline'])\n",
        "    labels.append(item['is_sarcastic'])\n",
        "\n",
        "training_sentences = sentences[0:training_size]\n",
        "testing_sentences = sentences[training_size:]\n",
        "training_labels = labels[0:training_size]\n",
        "testing_labels = labels[training_size:]\n",
        "\n",
        "tokenizer = Tokenizer(num_words=vocab_size, oov_token=oov_tok)\n",
        "tokenizer.fit_on_texts(training_sentences)\n",
        "\n",
        "word_index = tokenizer.word_index\n",
        "\n",
        "training_sequences = tokenizer.texts_to_sequences(training_sentences)\n",
        "training_padded = pad_sequences(training_sequences, maxlen=max_length, padding=padding_type, truncating=trunc_type)\n",
        "\n",
        "testing_sequences = tokenizer.texts_to_sequences(testing_sentences)\n",
        "testing_padded = pad_sequences(testing_sequences, maxlen=max_length, padding=padding_type, truncating=trunc_type)\n",
        "\n",
        "model = tf.keras.Sequential([\n",
        "    tf.keras.layers.Embedding(vocab_size, embedding_dim, input_length=max_length),\n",
        "    tf.keras.layers.Bidirectional(tf.keras.layers.LSTM(32)),\n",
        "    tf.keras.layers.Dense(24, activation='relu'),\n",
        "    tf.keras.layers.Dense(1, activation='sigmoid')\n",
        "])\n",
        "model.compile(loss='binary_crossentropy',optimizer='adam',metrics=['accuracy'])\n",
        "model.summary()\n",
        "\n",
        "num_epochs = 50\n",
        "history = model.fit(training_padded, training_labels, epochs=num_epochs, validation_data=(testing_padded, testing_labels), verbose=1)\n",
        "\n"
      ],
      "execution_count": 1,
      "outputs": [
        {
          "output_type": "stream",
          "text": [
            "--2019-06-30 22:02:03--  https://storage.googleapis.com/laurencemoroney-blog.appspot.com/sarcasm.json\n",
            "Resolving storage.googleapis.com (storage.googleapis.com)... 74.125.141.128, 2607:f8b0:400c:c06::80\n",
            "Connecting to storage.googleapis.com (storage.googleapis.com)|74.125.141.128|:443... connected.\n",
            "HTTP request sent, awaiting response... 200 OK\n",
            "Length: 5643545 (5.4M) [application/json]\n",
            "Saving to: ‘/tmp/sarcasm.json’\n",
            "\n",
            "/tmp/sarcasm.json   100%[===================>]   5.38M  --.-KB/s    in 0.1s    \n",
            "\n",
            "2019-06-30 22:02:03 (38.6 MB/s) - ‘/tmp/sarcasm.json’ saved [5643545/5643545]\n",
            "\n"
          ],
          "name": "stdout"
        },
        {
          "output_type": "stream",
          "text": [
            "WARNING: Logging before flag parsing goes to stderr.\n",
            "W0630 22:02:05.426045 140152558978944 deprecation.py:506] From /usr/local/lib/python3.6/dist-packages/tensorflow/python/keras/initializers.py:119: calling RandomUniform.__init__ (from tensorflow.python.ops.init_ops) with dtype is deprecated and will be removed in a future version.\n",
            "Instructions for updating:\n",
            "Call initializer instance with the dtype argument instead of passing it to the constructor\n",
            "W0630 22:02:05.430478 140152558978944 deprecation.py:506] From /usr/local/lib/python3.6/dist-packages/tensorflow/python/ops/init_ops.py:1251: calling VarianceScaling.__init__ (from tensorflow.python.ops.init_ops) with dtype is deprecated and will be removed in a future version.\n",
            "Instructions for updating:\n",
            "Call initializer instance with the dtype argument instead of passing it to the constructor\n",
            "W0630 22:02:05.439728 140152558978944 deprecation.py:506] From /usr/local/lib/python3.6/dist-packages/tensorflow/python/ops/init_ops.py:97: calling GlorotUniform.__init__ (from tensorflow.python.ops.init_ops) with dtype is deprecated and will be removed in a future version.\n",
            "Instructions for updating:\n",
            "Call initializer instance with the dtype argument instead of passing it to the constructor\n",
            "W0630 22:02:05.445605 140152558978944 deprecation.py:506] From /usr/local/lib/python3.6/dist-packages/tensorflow/python/ops/init_ops.py:97: calling Orthogonal.__init__ (from tensorflow.python.ops.init_ops) with dtype is deprecated and will be removed in a future version.\n",
            "Instructions for updating:\n",
            "Call initializer instance with the dtype argument instead of passing it to the constructor\n",
            "W0630 22:02:05.448385 140152558978944 deprecation.py:506] From /usr/local/lib/python3.6/dist-packages/tensorflow/python/ops/init_ops.py:97: calling Zeros.__init__ (from tensorflow.python.ops.init_ops) with dtype is deprecated and will be removed in a future version.\n",
            "Instructions for updating:\n",
            "Call initializer instance with the dtype argument instead of passing it to the constructor\n",
            "W0630 22:02:05.951313 140152558978944 deprecation.py:323] From /usr/local/lib/python3.6/dist-packages/tensorflow/python/ops/nn_impl.py:180: add_dispatch_support.<locals>.wrapper (from tensorflow.python.ops.array_ops) is deprecated and will be removed in a future version.\n",
            "Instructions for updating:\n",
            "Use tf.where in 2.0, which has the same broadcast rule as np.where\n"
          ],
          "name": "stderr"
        },
        {
          "output_type": "stream",
          "text": [
            "Model: \"sequential\"\n",
            "_________________________________________________________________\n",
            "Layer (type)                 Output Shape              Param #   \n",
            "=================================================================\n",
            "embedding (Embedding)        (None, 120, 16)           16000     \n",
            "_________________________________________________________________\n",
            "bidirectional (Bidirectional (None, 64)                12544     \n",
            "_________________________________________________________________\n",
            "dense (Dense)                (None, 24)                1560      \n",
            "_________________________________________________________________\n",
            "dense_1 (Dense)              (None, 1)                 25        \n",
            "=================================================================\n",
            "Total params: 30,129\n",
            "Trainable params: 30,129\n",
            "Non-trainable params: 0\n",
            "_________________________________________________________________\n",
            "Train on 20000 samples, validate on 6709 samples\n",
            "Epoch 1/50\n",
            "20000/20000 [==============================] - 300s 15ms/sample - loss: 0.4599 - acc: 0.7724 - val_loss: 0.3953 - val_acc: 0.8137\n",
            "Epoch 2/50\n",
            "20000/20000 [==============================] - 296s 15ms/sample - loss: 0.3562 - acc: 0.8364 - val_loss: 0.3769 - val_acc: 0.8275\n",
            "Epoch 3/50\n",
            "20000/20000 [==============================] - 290s 15ms/sample - loss: 0.3321 - acc: 0.8511 - val_loss: 0.3702 - val_acc: 0.8348\n",
            "Epoch 4/50\n",
            "20000/20000 [==============================] - 289s 14ms/sample - loss: 0.3145 - acc: 0.8568 - val_loss: 0.3709 - val_acc: 0.8325\n",
            "Epoch 5/50\n",
            "20000/20000 [==============================] - 289s 14ms/sample - loss: 0.3049 - acc: 0.8637 - val_loss: 0.3748 - val_acc: 0.8326\n",
            "Epoch 6/50\n",
            "20000/20000 [==============================] - 291s 15ms/sample - loss: 0.2961 - acc: 0.8684 - val_loss: 0.3862 - val_acc: 0.8204\n",
            "Epoch 7/50\n",
            "20000/20000 [==============================] - 289s 14ms/sample - loss: 0.2899 - acc: 0.8716 - val_loss: 0.3821 - val_acc: 0.8316\n",
            "Epoch 8/50\n",
            "20000/20000 [==============================] - 289s 14ms/sample - loss: 0.2811 - acc: 0.8778 - val_loss: 0.3834 - val_acc: 0.8326\n",
            "Epoch 9/50\n",
            "20000/20000 [==============================] - 290s 14ms/sample - loss: 0.2739 - acc: 0.8810 - val_loss: 0.3861 - val_acc: 0.8287\n",
            "Epoch 10/50\n",
            "20000/20000 [==============================] - 291s 15ms/sample - loss: 0.2671 - acc: 0.8827 - val_loss: 0.3966 - val_acc: 0.8295\n",
            "Epoch 11/50\n",
            "20000/20000 [==============================] - 286s 14ms/sample - loss: 0.2600 - acc: 0.8885 - val_loss: 0.3929 - val_acc: 0.8287\n",
            "Epoch 12/50\n",
            "20000/20000 [==============================] - 284s 14ms/sample - loss: 0.2525 - acc: 0.8927 - val_loss: 0.4156 - val_acc: 0.8265\n",
            "Epoch 13/50\n",
            "20000/20000 [==============================] - 286s 14ms/sample - loss: 0.2456 - acc: 0.8953 - val_loss: 0.4147 - val_acc: 0.8243\n",
            "Epoch 14/50\n",
            "20000/20000 [==============================] - 285s 14ms/sample - loss: 0.2383 - acc: 0.8996 - val_loss: 0.4275 - val_acc: 0.8202\n",
            "Epoch 15/50\n",
            "20000/20000 [==============================] - 287s 14ms/sample - loss: 0.2311 - acc: 0.9029 - val_loss: 0.4205 - val_acc: 0.8204\n",
            "Epoch 16/50\n",
            "20000/20000 [==============================] - 287s 14ms/sample - loss: 0.2237 - acc: 0.9063 - val_loss: 0.4539 - val_acc: 0.8228\n",
            "Epoch 17/50\n",
            "20000/20000 [==============================] - 287s 14ms/sample - loss: 0.2158 - acc: 0.9095 - val_loss: 0.4720 - val_acc: 0.8180\n",
            "Epoch 18/50\n",
            "20000/20000 [==============================] - 286s 14ms/sample - loss: 0.2100 - acc: 0.9132 - val_loss: 0.4729 - val_acc: 0.8173\n",
            "Epoch 19/50\n",
            "20000/20000 [==============================] - 286s 14ms/sample - loss: 0.2019 - acc: 0.9175 - val_loss: 0.4918 - val_acc: 0.8159\n",
            "Epoch 20/50\n",
            "20000/20000 [==============================] - 287s 14ms/sample - loss: 0.1945 - acc: 0.9184 - val_loss: 0.5137 - val_acc: 0.8186\n",
            "Epoch 21/50\n",
            "20000/20000 [==============================] - 294s 15ms/sample - loss: 0.1881 - acc: 0.9228 - val_loss: 0.5489 - val_acc: 0.8114\n",
            "Epoch 22/50\n",
            "20000/20000 [==============================] - 299s 15ms/sample - loss: 0.1797 - acc: 0.9261 - val_loss: 0.5314 - val_acc: 0.8162\n",
            "Epoch 23/50\n",
            "20000/20000 [==============================] - 290s 14ms/sample - loss: 0.1730 - acc: 0.9301 - val_loss: 0.5784 - val_acc: 0.8122\n",
            "Epoch 24/50\n",
            "20000/20000 [==============================] - 293s 15ms/sample - loss: 0.1656 - acc: 0.9319 - val_loss: 0.6312 - val_acc: 0.8138\n",
            "Epoch 25/50\n",
            "20000/20000 [==============================] - 292s 15ms/sample - loss: 0.1602 - acc: 0.9351 - val_loss: 0.6509 - val_acc: 0.8106\n",
            "Epoch 26/50\n",
            "20000/20000 [==============================] - 290s 15ms/sample - loss: 0.1552 - acc: 0.9373 - val_loss: 0.6683 - val_acc: 0.8068\n",
            "Epoch 27/50\n",
            "20000/20000 [==============================] - 291s 15ms/sample - loss: 0.1485 - acc: 0.9405 - val_loss: 0.6464 - val_acc: 0.8095\n",
            "Epoch 28/50\n",
            "20000/20000 [==============================] - 294s 15ms/sample - loss: 0.1401 - acc: 0.9456 - val_loss: 0.6788 - val_acc: 0.8092\n",
            "Epoch 29/50\n",
            "20000/20000 [==============================] - 292s 15ms/sample - loss: 0.1341 - acc: 0.9469 - val_loss: 0.7634 - val_acc: 0.8034\n",
            "Epoch 30/50\n",
            "20000/20000 [==============================] - 292s 15ms/sample - loss: 0.1284 - acc: 0.9503 - val_loss: 0.7927 - val_acc: 0.8025\n",
            "Epoch 31/50\n",
            "20000/20000 [==============================] - 293s 15ms/sample - loss: 0.1253 - acc: 0.9509 - val_loss: 0.8063 - val_acc: 0.8010\n",
            "Epoch 32/50\n",
            "20000/20000 [==============================] - 293s 15ms/sample - loss: 0.1270 - acc: 0.9513 - val_loss: 0.8201 - val_acc: 0.8032\n",
            "Epoch 33/50\n",
            "20000/20000 [==============================] - 293s 15ms/sample - loss: 0.1153 - acc: 0.9546 - val_loss: 0.8802 - val_acc: 0.8070\n",
            "Epoch 34/50\n",
            "20000/20000 [==============================] - 302s 15ms/sample - loss: 0.1085 - acc: 0.9574 - val_loss: 0.9114 - val_acc: 0.8022\n",
            "Epoch 35/50\n",
            "20000/20000 [==============================] - 296s 15ms/sample - loss: 0.1070 - acc: 0.9585 - val_loss: 0.9516 - val_acc: 0.8052\n",
            "Epoch 36/50\n",
            "20000/20000 [==============================] - 288s 14ms/sample - loss: 0.1038 - acc: 0.9596 - val_loss: 0.9788 - val_acc: 0.8059\n",
            "Epoch 37/50\n",
            "20000/20000 [==============================] - 291s 15ms/sample - loss: 0.0975 - acc: 0.9611 - val_loss: 1.0537 - val_acc: 0.8015\n",
            "Epoch 38/50\n",
            "20000/20000 [==============================] - 291s 15ms/sample - loss: 0.0949 - acc: 0.9628 - val_loss: 1.0692 - val_acc: 0.7953\n",
            "Epoch 39/50\n",
            "20000/20000 [==============================] - 296s 15ms/sample - loss: 0.0905 - acc: 0.9649 - val_loss: 1.0933 - val_acc: 0.7994\n",
            "Epoch 40/50\n",
            "20000/20000 [==============================] - 301s 15ms/sample - loss: 0.0839 - acc: 0.9671 - val_loss: 1.0877 - val_acc: 0.7942\n",
            "Epoch 41/50\n",
            "20000/20000 [==============================] - 303s 15ms/sample - loss: 0.0868 - acc: 0.9660 - val_loss: 1.1811 - val_acc: 0.7961\n",
            "Epoch 42/50\n",
            "20000/20000 [==============================] - 304s 15ms/sample - loss: 0.0823 - acc: 0.9678 - val_loss: 1.3075 - val_acc: 0.7985\n",
            "Epoch 43/50\n",
            "20000/20000 [==============================] - 304s 15ms/sample - loss: 0.0814 - acc: 0.9679 - val_loss: 1.1961 - val_acc: 0.7956\n",
            "Epoch 44/50\n",
            "20000/20000 [==============================] - 304s 15ms/sample - loss: 0.0736 - acc: 0.9717 - val_loss: 1.3426 - val_acc: 0.7931\n",
            "Epoch 45/50\n",
            "20000/20000 [==============================] - 304s 15ms/sample - loss: 0.0702 - acc: 0.9722 - val_loss: 1.3520 - val_acc: 0.7986\n",
            "Epoch 46/50\n",
            "20000/20000 [==============================] - 302s 15ms/sample - loss: 0.0695 - acc: 0.9729 - val_loss: 1.4287 - val_acc: 0.7918\n",
            "Epoch 47/50\n",
            "20000/20000 [==============================] - 306s 15ms/sample - loss: 0.0716 - acc: 0.9720 - val_loss: 1.4309 - val_acc: 0.7916\n",
            "Epoch 48/50\n",
            "20000/20000 [==============================] - 303s 15ms/sample - loss: 0.0662 - acc: 0.9741 - val_loss: 1.3019 - val_acc: 0.7970\n",
            "Epoch 49/50\n",
            "20000/20000 [==============================] - 301s 15ms/sample - loss: 0.0640 - acc: 0.9739 - val_loss: 1.5238 - val_acc: 0.7964\n",
            "Epoch 50/50\n",
            "20000/20000 [==============================] - 306s 15ms/sample - loss: 0.0592 - acc: 0.9768 - val_loss: 1.5232 - val_acc: 0.7951\n"
          ],
          "name": "stdout"
        }
      ]
    },
    {
      "cell_type": "code",
      "metadata": {
        "id": "g9DC6dmLF8DC",
        "colab_type": "code",
        "colab": {
          "base_uri": "https://localhost:8080/",
          "height": 550
        },
        "outputId": "c8c6cada-5d02-4451-fdb9-3616aee6df7f"
      },
      "source": [
        "import matplotlib.pyplot as plt\n",
        "\n",
        "\n",
        "def plot_graphs(history, string):\n",
        "  plt.plot(history.history[string])\n",
        "  plt.plot(history.history['val_'+string])\n",
        "  plt.xlabel(\"Epochs\")\n",
        "  plt.ylabel(string)\n",
        "  plt.legend([string, 'val_'+string])\n",
        "  plt.show()\n",
        "\n",
        "plot_graphs(history, 'acc')\n",
        "plot_graphs(history, 'loss')"
      ],
      "execution_count": 2,
      "outputs": [
        {
          "output_type": "display_data",
          "data": {
            "image/png": "[encoded data removed]",
            "text/plain": [
              "<Figure size 432x288 with 1 Axes>"
            ]
          },
          "metadata": {
            "tags": []
          }
        },
        {
          "output_type": "display_data",
          "data": {
            "image/png": "[encoded data removed]",
            "text/plain": [
              "<Figure size 432x288 with 1 Axes>"
            ]
          },
          "metadata": {
            "tags": []
          }
        }
      ]
    },
    {
      "cell_type": "code",
      "metadata": {
        "id": "7ZEZIUppGhdi",
        "colab_type": "code",
        "colab": {}
      },
      "source": [
        "model.save(\"test.h5\")"
      ],
      "execution_count": 0,
      "outputs": []
    }
  ]
}