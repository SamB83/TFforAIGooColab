{
  "nbformat": 4,
  "nbformat_minor": 0,
  "metadata": {
    "colab": {
      "name": "Ex6 - CatsnDogsCNNAug.ipynb",
      "version": "0.3.2",
      "provenance": [],
      "collapsed_sections": [],
      "include_colab_link": true
    },
    "kernelspec": {
      "name": "python3",
      "display_name": "Python 3"
    },
    "accelerator": "GPU"
  },
  "cells": [
    {
      "cell_type": "markdown",
      "metadata": {
        "id": "view-in-github",
        "colab_type": "text"
      },
      "source": [
        "<a href=\"https://colab.research.google.com/github/SamB83/TFforAIGooColab/blob/master/Ex6_CatsnDogsCNNAug.ipynb\" target=\"_parent\"><img src=\"https://colab.research.google.com/assets/colab-badge.svg\" alt=\"Open In Colab\"/></a>"
      ]
    },
    {
      "cell_type": "code",
      "metadata": {
        "id": "dn-6c02VmqiN",
        "colab_type": "code",
        "colab": {}
      },
      "source": [
        "# In this exercise you will train a CNN on the FULL Cats-v-dogs dataset\n",
        "# This will require you doing a lot of data preprocessing because\n",
        "# the dataset isn't split into training and validation for you\n",
        "# This code block has all the required inputs\n",
        "import os\n",
        "import zipfile\n",
        "import random\n",
        "import tensorflow as tf\n",
        "from tensorflow.keras.optimizers import RMSprop\n",
        "from tensorflow.keras.preprocessing.image import ImageDataGenerator\n",
        "from shutil import copyfile"
      ],
      "execution_count": 0,
      "outputs": []
    },
    {
      "cell_type": "code",
      "metadata": {
        "id": "3sd9dQWa23aj",
        "colab_type": "code",
        "colab": {
          "base_uri": "https://localhost:8080/",
          "height": 208
        },
        "outputId": "5dc2fecf-691a-4f95-df1f-567c1a262b74"
      },
      "source": [
        "# This code block downloads the full Cats-v-Dogs dataset and stores it as \n",
        "# cats-and-dogs.zip. It then unzips it to /tmp\n",
        "# which will create a tmp/PetImages directory containing subdirectories\n",
        "# called 'Cat' and 'Dog' (that's how the original researchers structured it)\n",
        "# If the URL doesn't work, \n",
        "# .   visit https://www.microsoft.com/en-us/download/confirmation.aspx?id=54765\n",
        "# And right click on the 'Download Manually' link to get a new URL\n",
        "\n",
        "!wget --no-check-certificate \\\n",
        "    \"https://download.microsoft.com/download/3/E/1/3E1C3F21-ECDB-4869-8368-6DEBA77B919F/kagglecatsanddogs_3367a.zip\" \\\n",
        "    -O \"/tmp/cats-and-dogs.zip\"\n",
        "\n",
        "local_zip = '/tmp/cats-and-dogs.zip'\n",
        "zip_ref = zipfile.ZipFile(local_zip, 'r')\n",
        "zip_ref.extractall('/tmp')\n",
        "zip_ref.close()\n"
      ],
      "execution_count": 2,
      "outputs": [
        {
          "output_type": "stream",
          "text": [
            "--2019-06-24 17:16:08--  https://download.microsoft.com/download/3/E/1/3E1C3F21-ECDB-4869-8368-6DEBA77B919F/kagglecatsanddogs_3367a.zip\n",
            "Resolving download.microsoft.com (download.microsoft.com)... 23.66.60.156, 2600:1408:8400:6a4::e59, 2600:1408:8400:69d::e59\n",
            "Connecting to download.microsoft.com (download.microsoft.com)|23.66.60.156|:443... connected.\n",
            "HTTP request sent, awaiting response... 200 OK\n",
            "Length: 824894548 (787M) [application/octet-stream]\n",
            "Saving to: ‘/tmp/cats-and-dogs.zip’\n",
            "\n",
            "/tmp/cats-and-dogs. 100%[===================>] 786.68M  11.9MB/s    in 68s     \n",
            "\n",
            "2019-06-24 17:17:22 (11.6 MB/s) - ‘/tmp/cats-and-dogs.zip’ saved [824894548/824894548]\n",
            "\n"
          ],
          "name": "stdout"
        }
      ]
    },
    {
      "cell_type": "code",
      "metadata": {
        "id": "gi3yD62a6X3S",
        "colab_type": "code",
        "colab": {
          "base_uri": "https://localhost:8080/",
          "height": 52
        },
        "outputId": "72197ecf-19c6-4fa3-e93c-e08044809358"
      },
      "source": [
        "print(len(os.listdir('/tmp/PetImages/Cat/')))\n",
        "print(len(os.listdir('/tmp/PetImages/Dog/')))\n",
        "\n",
        "# Expected Output:\n",
        "# 12501\n",
        "# 12501"
      ],
      "execution_count": 3,
      "outputs": [
        {
          "output_type": "stream",
          "text": [
            "12501\n",
            "12501\n"
          ],
          "name": "stdout"
        }
      ]
    },
    {
      "cell_type": "code",
      "metadata": {
        "id": "F-QkLjxpmyK2",
        "colab_type": "code",
        "colab": {}
      },
      "source": [
        "# Use os.mkdir to create your directories\n",
        "# You will need a directory for cats-v-dogs, and subdirectories for training\n",
        "# and testing. These in turn will need subdirectories for 'cats' and 'dogs'\n",
        "try:\n",
        "    #YOUR CODE GOES HERE\n",
        "    os.mkdir('/tmp/cats-v-dogs')\n",
        "    os.mkdir('/tmp/cats-v-dogs/training')\n",
        "    os.mkdir('/tmp/cats-v-dogs/testing')\n",
        "    os.mkdir('/tmp/cats-v-dogs/training/cats')\n",
        "    os.mkdir('/tmp/cats-v-dogs/training/dogs')\n",
        "    os.mkdir('/tmp/cats-v-dogs/testing/cats')\n",
        "    os.mkdir('/tmp/cats-v-dogs/testing/dogs')\n",
        "except OSError:\n",
        "    pass"
      ],
      "execution_count": 0,
      "outputs": []
    },
    {
      "cell_type": "code",
      "metadata": {
        "id": "zvSODo0f9LaU",
        "colab_type": "code",
        "colab": {
          "base_uri": "https://localhost:8080/",
          "height": 52
        },
        "outputId": "fcd58ad1-d1ae-40e6-c05e-c9935a387fb7"
      },
      "source": [
        "# Write a python function called split_data which takes\n",
        "# a SOURCE directory containing the files\n",
        "# a TRAINING directory that a portion of the files will be copied to\n",
        "# a TESTING directory that a portion of the files will be copie to\n",
        "# a SPLIT SIZE to determine the portion\n",
        "# The files should also be randomized, so that the training set is a random\n",
        "# X% of the files, and the test set is the remaining files\n",
        "# SO, for example, if SOURCE is PetImages/Cat, and SPLIT SIZE is .9\n",
        "# Then 90% of the images in PetImages/Cat will be copied to the TRAINING dir\n",
        "# and 10% of the images will be copied to the TESTING dir\n",
        "# Also -- All images should be checked, and if they have a zero file length,\n",
        "# they will not be copied over\n",
        "#\n",
        "# os.listdir(DIRECTORY) gives you a listing of the contents of that directory\n",
        "# os.path.getsize(PATH) gives you the size of the file\n",
        "# copyfile(source, destination) copies a file from source to destination\n",
        "# random.sample(list, len(list)) shuffles a list\n",
        "def split_data(SOURCE, TRAINING, TESTING, SPLIT_SIZE):\n",
        "# YOUR CODE STARTS HERE\n",
        "  #list all files in directory\n",
        "  filelist = os.listdir(SOURCE)\n",
        "  nfiles   = len(filelist)\n",
        "  rndfilelist = random.sample(filelist, nfiles)\n",
        "  ntrainfiles = int(SPLIT_SIZE*nfiles)\n",
        "  for i in range(nfiles):\n",
        "    absfile = SOURCE + rndfilelist[i]\n",
        "    if (i <= ntrainfiles) and (os.path.getsize(absfile) > 0 ):\n",
        "      destfile = TRAINING + rndfilelist[i]\n",
        "      copyfile(absfile,destfile)\n",
        "    elif (i > ntrainfiles) and (os.path.getsize(absfile) > 0 ):\n",
        "      destfile = TESTING + rndfilelist[i]\n",
        "      copyfile(absfile,destfile)\n",
        "    else:\n",
        "      print(rndfilelist[i] + \" is zero length, so ignoring.\")\n",
        "      \n",
        "# YOUR CODE ENDS HERE\n",
        "\n",
        "\n",
        "CAT_SOURCE_DIR = \"/tmp/PetImages/Cat/\"\n",
        "TRAINING_CATS_DIR = \"/tmp/cats-v-dogs/training/cats/\"\n",
        "TESTING_CATS_DIR = \"/tmp/cats-v-dogs/testing/cats/\"\n",
        "DOG_SOURCE_DIR = \"/tmp/PetImages/Dog/\"\n",
        "TRAINING_DOGS_DIR = \"/tmp/cats-v-dogs/training/dogs/\"\n",
        "TESTING_DOGS_DIR = \"/tmp/cats-v-dogs/testing/dogs/\"\n",
        "\n",
        "split_size = .9\n",
        "split_data(CAT_SOURCE_DIR, TRAINING_CATS_DIR, TESTING_CATS_DIR, split_size)\n",
        "split_data(DOG_SOURCE_DIR, TRAINING_DOGS_DIR, TESTING_DOGS_DIR, split_size)\n",
        "\n",
        "# Expected output\n",
        "# 666.jpg is zero length, so ignoring\n",
        "# 11702.jpg is zero length, so ignoring"
      ],
      "execution_count": 5,
      "outputs": [
        {
          "output_type": "stream",
          "text": [
            "666.jpg is zero length, so ignoring.\n",
            "11702.jpg is zero length, so ignoring.\n"
          ],
          "name": "stdout"
        }
      ]
    },
    {
      "cell_type": "code",
      "metadata": {
        "id": "luthalB76ufC",
        "colab_type": "code",
        "colab": {
          "base_uri": "https://localhost:8080/",
          "height": 86
        },
        "outputId": "fba379ba-3ae7-49c4-d974-cd3d3d14f386"
      },
      "source": [
        "print(len(os.listdir('/tmp/cats-v-dogs/training/cats/')))\n",
        "print(len(os.listdir('/tmp/cats-v-dogs/training/dogs/')))\n",
        "print(len(os.listdir('/tmp/cats-v-dogs/testing/cats/')))\n",
        "print(len(os.listdir('/tmp/cats-v-dogs/testing/dogs/')))\n",
        "\n",
        "# Expected output:\n",
        "# 11250\n",
        "# 11250\n",
        "# 1250\n",
        "# 1250"
      ],
      "execution_count": 6,
      "outputs": [
        {
          "output_type": "stream",
          "text": [
            "11249\n",
            "11249\n",
            "1251\n",
            "1251\n"
          ],
          "name": "stdout"
        }
      ]
    },
    {
      "cell_type": "code",
      "metadata": {
        "id": "-BQrav4anTmj",
        "colab_type": "code",
        "colab": {
          "base_uri": "https://localhost:8080/",
          "height": 159
        },
        "outputId": "8ac64861-2ee0-4441-f9fc-22dd8d934666"
      },
      "source": [
        "# DEFINE A KERAS MODEL TO CLASSIFY CATS V DOGS\n",
        "# USE AT LEAST 3 CONVOLUTION LAYERS\n",
        "model = tf.keras.models.Sequential([\n",
        "# YOUR CODE HERE\n",
        "    tf.keras.layers.Conv2D(16, (3,3), activation='relu', input_shape=(150, 150, 3)),\n",
        "    tf.keras.layers.MaxPooling2D(2,2),\n",
        "    tf.keras.layers.Conv2D(32, (3,3), activation='relu'),\n",
        "    tf.keras.layers.MaxPooling2D(2,2), \n",
        "    tf.keras.layers.Conv2D(64, (3,3), activation='relu'), \n",
        "    tf.keras.layers.MaxPooling2D(2,2),\n",
        "    # Flatten the results to feed into a DNN\n",
        "    tf.keras.layers.Flatten(), \n",
        "    # 512 neuron hidden layer\n",
        "    tf.keras.layers.Dense(512, activation='relu'), \n",
        "    # Only 1 output neuron. It will contain a value from 0-1 where 0 for 1 class ('cats') and 1 for the other ('dogs')\n",
        "    tf.keras.layers.Dense(1, activation='sigmoid')\n",
        "])\n",
        "\n",
        "model.compile(optimizer=RMSprop(lr=0.001), loss='binary_crossentropy', metrics=['acc'])"
      ],
      "execution_count": 7,
      "outputs": [
        {
          "output_type": "stream",
          "text": [
            "WARNING: Logging before flag parsing goes to stderr.\n",
            "W0624 17:24:16.366315 139931378497408 deprecation.py:506] From /usr/local/lib/python3.6/dist-packages/tensorflow/python/ops/init_ops.py:1251: calling VarianceScaling.__init__ (from tensorflow.python.ops.init_ops) with dtype is deprecated and will be removed in a future version.\n",
            "Instructions for updating:\n",
            "Call initializer instance with the dtype argument instead of passing it to the constructor\n",
            "W0624 17:24:16.690124 139931378497408 deprecation.py:323] From /usr/local/lib/python3.6/dist-packages/tensorflow/python/ops/nn_impl.py:180: add_dispatch_support.<locals>.wrapper (from tensorflow.python.ops.array_ops) is deprecated and will be removed in a future version.\n",
            "Instructions for updating:\n",
            "Use tf.where in 2.0, which has the same broadcast rule as np.where\n"
          ],
          "name": "stderr"
        }
      ]
    },
    {
      "cell_type": "code",
      "metadata": {
        "id": "mlNjoJ5D61N6",
        "colab_type": "code",
        "colab": {
          "base_uri": "https://localhost:8080/",
          "height": 52
        },
        "outputId": "01da2166-1aa7-420b-bde7-37b30041d450"
      },
      "source": [
        "TRAINING_DIR = '/tmp/cats-v-dogs/training'\n",
        "train_datagen = ImageDataGenerator(\n",
        "      rescale=1./255,\n",
        "      rotation_range=40,\n",
        "      width_shift_range=0.2,\n",
        "      height_shift_range=0.2,\n",
        "      shear_range=0.2,\n",
        "      zoom_range=0.2,\n",
        "      horizontal_flip=True,\n",
        "      fill_mode='nearest')\n",
        "train_generator = train_datagen.flow_from_directory(\n",
        "        TRAINING_DIR,  # This is the source directory for training images\n",
        "        target_size=(150, 150),  # All images will be resized to 150x150\n",
        "        batch_size=100,\n",
        "        # Since we use binary_crossentropy loss, we need binary labels\n",
        "        class_mode='binary')\n",
        "\n",
        "VALIDATION_DIR = '/tmp/cats-v-dogs/testing'\n",
        "validation_datagen = ImageDataGenerator( rescale = 1.0/255. )\n",
        "validation_generator = validation_datagen.flow_from_directory(\n",
        "        VALIDATION_DIR,\n",
        "        target_size=(150, 150),\n",
        "        batch_size=100,\n",
        "        class_mode='binary')\n",
        "\n",
        "\n",
        "\n",
        "# Expected Output:\n",
        "# Found 22498 images belonging to 2 classes.\n",
        "# Found 2500 images belonging to 2 classes."
      ],
      "execution_count": 8,
      "outputs": [
        {
          "output_type": "stream",
          "text": [
            "Found 22496 images belonging to 2 classes.\n",
            "Found 2502 images belonging to 2 classes.\n"
          ],
          "name": "stdout"
        }
      ]
    },
    {
      "cell_type": "code",
      "metadata": {
        "id": "KyS4n53w7DxC",
        "colab_type": "code",
        "colab": {
          "base_uri": "https://localhost:8080/",
          "height": 1000
        },
        "outputId": "a6b7c4d8-ccb6-40c1-c61b-c70b333adbe6"
      },
      "source": [
        "history = model.fit_generator(train_generator,\n",
        "                              epochs=100,\n",
        "                              verbose=1,\n",
        "                              validation_data=validation_generator)\n",
        "\n",
        "# The expectation here is that the model will train, and that accuracy will be > 95% on both training and validation\n",
        "# i.e. acc:A1 and val_acc:A2 will be visible, and both A1 and A2 will be > .9"
      ],
      "execution_count": 9,
      "outputs": [
        {
          "output_type": "stream",
          "text": [
            "Epoch 1/100\n",
            " 10/225 [>.............................] - ETA: 2:28 - loss: 1.5340 - acc: 0.5030"
          ],
          "name": "stdout"
        },
        {
          "output_type": "stream",
          "text": [
            "/usr/local/lib/python3.6/dist-packages/PIL/TiffImagePlugin.py:725: UserWarning: Possibly corrupt EXIF data.  Expecting to read 262146 bytes but only got 0. Skipping tag 2\n",
            "  \" Skipping tag %s\" % (size, len(data), tag))\n",
            "/usr/local/lib/python3.6/dist-packages/PIL/TiffImagePlugin.py:725: UserWarning: Possibly corrupt EXIF data.  Expecting to read 262151 bytes but only got 0. Skipping tag 56\n",
            "  \" Skipping tag %s\" % (size, len(data), tag))\n",
            "/usr/local/lib/python3.6/dist-packages/PIL/TiffImagePlugin.py:742: UserWarning: Corrupt EXIF data.  Expecting to read 12 bytes but only got 0. \n",
            "  warnings.warn(str(msg))\n"
          ],
          "name": "stderr"
        },
        {
          "output_type": "stream",
          "text": [
            " 17/225 [=>............................] - ETA: 2:25 - loss: 1.1858 - acc: 0.5171"
          ],
          "name": "stdout"
        },
        {
          "output_type": "stream",
          "text": [
            "/usr/local/lib/python3.6/dist-packages/PIL/TiffImagePlugin.py:725: UserWarning: Possibly corrupt EXIF data.  Expecting to read 18350080 bytes but only got 0. Skipping tag 0\n",
            "  \" Skipping tag %s\" % (size, len(data), tag))\n",
            "/usr/local/lib/python3.6/dist-packages/PIL/TiffImagePlugin.py:742: UserWarning: Corrupt EXIF data.  Expecting to read 12 bytes but only got 6. \n",
            "  warnings.warn(str(msg))\n"
          ],
          "name": "stderr"
        },
        {
          "output_type": "stream",
          "text": [
            " 67/225 [=======>......................] - ETA: 1:53 - loss: 0.8157 - acc: 0.5390"
          ],
          "name": "stdout"
        },
        {
          "output_type": "stream",
          "text": [
            "/usr/local/lib/python3.6/dist-packages/PIL/TiffImagePlugin.py:725: UserWarning: Possibly corrupt EXIF data.  Expecting to read 80000 bytes but only got 0. Skipping tag 64640\n",
            "  \" Skipping tag %s\" % (size, len(data), tag))\n",
            "/usr/local/lib/python3.6/dist-packages/PIL/TiffImagePlugin.py:725: UserWarning: Possibly corrupt EXIF data.  Expecting to read 65536 bytes but only got 0. Skipping tag 3\n",
            "  \" Skipping tag %s\" % (size, len(data), tag))\n",
            "/usr/local/lib/python3.6/dist-packages/PIL/TiffImagePlugin.py:725: UserWarning: Possibly corrupt EXIF data.  Expecting to read 307363840 bytes but only got 0. Skipping tag 5\n",
            "  \" Skipping tag %s\" % (size, len(data), tag))\n",
            "/usr/local/lib/python3.6/dist-packages/PIL/TiffImagePlugin.py:725: UserWarning: Possibly corrupt EXIF data.  Expecting to read 307888128 bytes but only got 0. Skipping tag 5\n",
            "  \" Skipping tag %s\" % (size, len(data), tag))\n",
            "/usr/local/lib/python3.6/dist-packages/PIL/TiffImagePlugin.py:725: UserWarning: Possibly corrupt EXIF data.  Expecting to read 131072 bytes but only got 0. Skipping tag 3\n",
            "  \" Skipping tag %s\" % (size, len(data), tag))\n",
            "/usr/local/lib/python3.6/dist-packages/PIL/TiffImagePlugin.py:725: UserWarning: Possibly corrupt EXIF data.  Expecting to read 328728576 bytes but only got 0. Skipping tag 4\n",
            "  \" Skipping tag %s\" % (size, len(data), tag))\n",
            "/usr/local/lib/python3.6/dist-packages/PIL/TiffImagePlugin.py:725: UserWarning: Possibly corrupt EXIF data.  Expecting to read 1385474 bytes but only got 5357. Skipping tag 513\n",
            "  \" Skipping tag %s\" % (size, len(data), tag))\n",
            "/usr/local/lib/python3.6/dist-packages/PIL/TiffImagePlugin.py:725: UserWarning: Possibly corrupt EXIF data.  Expecting to read 3846701056 bytes but only got 0. Skipping tag 2\n",
            "  \" Skipping tag %s\" % (size, len(data), tag))\n",
            "/usr/local/lib/python3.6/dist-packages/PIL/TiffImagePlugin.py:725: UserWarning: Possibly corrupt EXIF data.  Expecting to read 3300917248 bytes but only got 0. Skipping tag 7\n",
            "  \" Skipping tag %s\" % (size, len(data), tag))\n",
            "/usr/local/lib/python3.6/dist-packages/PIL/TiffImagePlugin.py:725: UserWarning: Possibly corrupt EXIF data.  Expecting to read 196867 bytes but only got 5357. Skipping tag 0\n",
            "  \" Skipping tag %s\" % (size, len(data), tag))\n",
            "/usr/local/lib/python3.6/dist-packages/PIL/TiffImagePlugin.py:742: UserWarning: Corrupt EXIF data.  Expecting to read 12 bytes but only got 8. \n",
            "  warnings.warn(str(msg))\n"
          ],
          "name": "stderr"
        },
        {
          "output_type": "stream",
          "text": [
            " 76/225 [=========>....................] - ETA: 1:47 - loss: 0.8055 - acc: 0.5438"
          ],
          "name": "stdout"
        },
        {
          "output_type": "stream",
          "text": [
            "/usr/local/lib/python3.6/dist-packages/PIL/TiffImagePlugin.py:725: UserWarning: Possibly corrupt EXIF data.  Expecting to read 209715200 bytes but only got 0. Skipping tag 48\n",
            "  \" Skipping tag %s\" % (size, len(data), tag))\n",
            "/usr/local/lib/python3.6/dist-packages/PIL/TiffImagePlugin.py:725: UserWarning: Possibly corrupt EXIF data.  Expecting to read 52428800 bytes but only got 0. Skipping tag 0\n",
            "  \" Skipping tag %s\" % (size, len(data), tag))\n",
            "/usr/local/lib/python3.6/dist-packages/PIL/TiffImagePlugin.py:725: UserWarning: Possibly corrupt EXIF data.  Expecting to read 6468665344 bytes but only got 0. Skipping tag 0\n",
            "  \" Skipping tag %s\" % (size, len(data), tag))\n",
            "/usr/local/lib/python3.6/dist-packages/PIL/TiffImagePlugin.py:725: UserWarning: Possibly corrupt EXIF data.  Expecting to read 1050744 bytes but only got 7027. Skipping tag 48\n",
            "  \" Skipping tag %s\" % (size, len(data), tag))\n",
            "/usr/local/lib/python3.6/dist-packages/PIL/TiffImagePlugin.py:725: UserWarning: Possibly corrupt EXIF data.  Expecting to read 422313984 bytes but only got 0. Skipping tag 5\n",
            "  \" Skipping tag %s\" % (size, len(data), tag))\n",
            "/usr/local/lib/python3.6/dist-packages/PIL/TiffImagePlugin.py:725: UserWarning: Possibly corrupt EXIF data.  Expecting to read 422838272 bytes but only got 0. Skipping tag 5\n",
            "  \" Skipping tag %s\" % (size, len(data), tag))\n",
            "/usr/local/lib/python3.6/dist-packages/PIL/TiffImagePlugin.py:725: UserWarning: Possibly corrupt EXIF data.  Expecting to read 3368026112 bytes but only got 0. Skipping tag 7\n",
            "  \" Skipping tag %s\" % (size, len(data), tag))\n",
            "/usr/local/lib/python3.6/dist-packages/PIL/TiffImagePlugin.py:725: UserWarning: Possibly corrupt EXIF data.  Expecting to read 134479872 bytes but only got 0. Skipping tag 7\n",
            "  \" Skipping tag %s\" % (size, len(data), tag))\n",
            "/usr/local/lib/python3.6/dist-packages/PIL/TiffImagePlugin.py:725: UserWarning: Possibly corrupt EXIF data.  Expecting to read 428867584 bytes but only got 0. Skipping tag 10\n",
            "  \" Skipping tag %s\" % (size, len(data), tag))\n",
            "/usr/local/lib/python3.6/dist-packages/PIL/TiffImagePlugin.py:725: UserWarning: Possibly corrupt EXIF data.  Expecting to read 429391872 bytes but only got 0. Skipping tag 5\n",
            "  \" Skipping tag %s\" % (size, len(data), tag))\n",
            "/usr/local/lib/python3.6/dist-packages/PIL/TiffImagePlugin.py:725: UserWarning: Possibly corrupt EXIF data.  Expecting to read 2031616 bytes but only got 0. Skipping tag 3\n",
            "  \" Skipping tag %s\" % (size, len(data), tag))\n",
            "/usr/local/lib/python3.6/dist-packages/PIL/TiffImagePlugin.py:725: UserWarning: Possibly corrupt EXIF data.  Expecting to read 429916160 bytes but only got 0. Skipping tag 5\n",
            "  \" Skipping tag %s\" % (size, len(data), tag))\n",
            "/usr/local/lib/python3.6/dist-packages/PIL/TiffImagePlugin.py:725: UserWarning: Possibly corrupt EXIF data.  Expecting to read 21299200 bytes but only got 0. Skipping tag 4\n",
            "  \" Skipping tag %s\" % (size, len(data), tag))\n",
            "/usr/local/lib/python3.6/dist-packages/PIL/TiffImagePlugin.py:725: UserWarning: Possibly corrupt EXIF data.  Expecting to read 24313856 bytes but only got 0. Skipping tag 4\n",
            "  \" Skipping tag %s\" % (size, len(data), tag))\n",
            "/usr/local/lib/python3.6/dist-packages/PIL/TiffImagePlugin.py:725: UserWarning: Possibly corrupt EXIF data.  Expecting to read 453771264 bytes but only got 7032. Skipping tag 4\n",
            "  \" Skipping tag %s\" % (size, len(data), tag))\n",
            "/usr/local/lib/python3.6/dist-packages/PIL/TiffImagePlugin.py:725: UserWarning: Possibly corrupt EXIF data.  Expecting to read 131073 bytes but only got 7028. Skipping tag 0\n",
            "  \" Skipping tag %s\" % (size, len(data), tag))\n",
            "/usr/local/lib/python3.6/dist-packages/PIL/TiffImagePlugin.py:725: UserWarning: Possibly corrupt EXIF data.  Expecting to read 393216 bytes but only got 0. Skipping tag 3\n",
            "  \" Skipping tag %s\" % (size, len(data), tag))\n",
            "/usr/local/lib/python3.6/dist-packages/PIL/TiffImagePlugin.py:725: UserWarning: Possibly corrupt EXIF data.  Expecting to read 416415744 bytes but only got 0. Skipping tag 5\n",
            "  \" Skipping tag %s\" % (size, len(data), tag))\n",
            "/usr/local/lib/python3.6/dist-packages/PIL/TiffImagePlugin.py:725: UserWarning: Possibly corrupt EXIF data.  Expecting to read 416940032 bytes but only got 0. Skipping tag 5\n",
            "  \" Skipping tag %s\" % (size, len(data), tag))\n",
            "/usr/local/lib/python3.6/dist-packages/PIL/TiffImagePlugin.py:725: UserWarning: Possibly corrupt EXIF data.  Expecting to read 524288 bytes but only got 0. Skipping tag 4\n",
            "  \" Skipping tag %s\" % (size, len(data), tag))\n",
            "/usr/local/lib/python3.6/dist-packages/PIL/TiffImagePlugin.py:725: UserWarning: Possibly corrupt EXIF data.  Expecting to read 415825920 bytes but only got 7032. Skipping tag 4\n",
            "  \" Skipping tag %s\" % (size, len(data), tag))\n",
            "/usr/local/lib/python3.6/dist-packages/PIL/TiffImagePlugin.py:742: UserWarning: Corrupt EXIF data.  Expecting to read 12 bytes but only got 2. \n",
            "  warnings.warn(str(msg))\n"
          ],
          "name": "stderr"
        },
        {
          "output_type": "stream",
          "text": [
            "106/225 [=============>................] - ETA: 1:25 - loss: 0.7686 - acc: 0.5540"
          ],
          "name": "stdout"
        },
        {
          "output_type": "stream",
          "text": [
            "/usr/local/lib/python3.6/dist-packages/PIL/TiffImagePlugin.py:725: UserWarning: Possibly corrupt EXIF data.  Expecting to read 404094976 bytes but only got 0. Skipping tag 5\n",
            "  \" Skipping tag %s\" % (size, len(data), tag))\n",
            "/usr/local/lib/python3.6/dist-packages/PIL/TiffImagePlugin.py:725: UserWarning: Possibly corrupt EXIF data.  Expecting to read 404619264 bytes but only got 0. Skipping tag 5\n",
            "  \" Skipping tag %s\" % (size, len(data), tag))\n",
            "/usr/local/lib/python3.6/dist-packages/PIL/TiffImagePlugin.py:725: UserWarning: Possibly corrupt EXIF data.  Expecting to read 425459712 bytes but only got 0. Skipping tag 4\n",
            "  \" Skipping tag %s\" % (size, len(data), tag))\n",
            "/usr/local/lib/python3.6/dist-packages/PIL/TiffImagePlugin.py:725: UserWarning: Possibly corrupt EXIF data.  Expecting to read 1385474 bytes but only got 6833. Skipping tag 513\n",
            "  \" Skipping tag %s\" % (size, len(data), tag))\n",
            "/usr/local/lib/python3.6/dist-packages/PIL/TiffImagePlugin.py:725: UserWarning: Possibly corrupt EXIF data.  Expecting to read 196867 bytes but only got 6833. Skipping tag 0\n",
            "  \" Skipping tag %s\" % (size, len(data), tag))\n"
          ],
          "name": "stderr"
        },
        {
          "output_type": "stream",
          "text": [
            "180/225 [=======================>......] - ETA: 32s - loss: 0.7333 - acc: 0.5727"
          ],
          "name": "stdout"
        },
        {
          "output_type": "stream",
          "text": [
            "/usr/local/lib/python3.6/dist-packages/PIL/TiffImagePlugin.py:725: UserWarning: Possibly corrupt EXIF data.  Expecting to read 32 bytes but only got 0. Skipping tag 270\n",
            "  \" Skipping tag %s\" % (size, len(data), tag))\n",
            "/usr/local/lib/python3.6/dist-packages/PIL/TiffImagePlugin.py:725: UserWarning: Possibly corrupt EXIF data.  Expecting to read 5 bytes but only got 0. Skipping tag 271\n",
            "  \" Skipping tag %s\" % (size, len(data), tag))\n",
            "/usr/local/lib/python3.6/dist-packages/PIL/TiffImagePlugin.py:725: UserWarning: Possibly corrupt EXIF data.  Expecting to read 8 bytes but only got 0. Skipping tag 272\n",
            "  \" Skipping tag %s\" % (size, len(data), tag))\n",
            "/usr/local/lib/python3.6/dist-packages/PIL/TiffImagePlugin.py:725: UserWarning: Possibly corrupt EXIF data.  Expecting to read 8 bytes but only got 0. Skipping tag 282\n",
            "  \" Skipping tag %s\" % (size, len(data), tag))\n",
            "/usr/local/lib/python3.6/dist-packages/PIL/TiffImagePlugin.py:725: UserWarning: Possibly corrupt EXIF data.  Expecting to read 8 bytes but only got 0. Skipping tag 283\n",
            "  \" Skipping tag %s\" % (size, len(data), tag))\n",
            "/usr/local/lib/python3.6/dist-packages/PIL/TiffImagePlugin.py:725: UserWarning: Possibly corrupt EXIF data.  Expecting to read 20 bytes but only got 0. Skipping tag 306\n",
            "  \" Skipping tag %s\" % (size, len(data), tag))\n",
            "/usr/local/lib/python3.6/dist-packages/PIL/TiffImagePlugin.py:725: UserWarning: Possibly corrupt EXIF data.  Expecting to read 48 bytes but only got 0. Skipping tag 532\n",
            "  \" Skipping tag %s\" % (size, len(data), tag))\n",
            "/usr/local/lib/python3.6/dist-packages/PIL/TiffImagePlugin.py:742: UserWarning: Corrupt EXIF data.  Expecting to read 2 bytes but only got 0. \n",
            "  warnings.warn(str(msg))\n"
          ],
          "name": "stderr"
        },
        {
          "output_type": "stream",
          "text": [
            "218/225 [============================>.] - ETA: 5s - loss: 0.7179 - acc: 0.5817"
          ],
          "name": "stdout"
        },
        {
          "output_type": "stream",
          "text": [
            "/usr/local/lib/python3.6/dist-packages/PIL/TiffImagePlugin.py:725: UserWarning: Possibly corrupt EXIF data.  Expecting to read 6553600 bytes but only got 0. Skipping tag 49\n",
            "  \" Skipping tag %s\" % (size, len(data), tag))\n",
            "/usr/local/lib/python3.6/dist-packages/PIL/TiffImagePlugin.py:725: UserWarning: Possibly corrupt EXIF data.  Expecting to read 1050744 bytes but only got 4951. Skipping tag 51\n",
            "  \" Skipping tag %s\" % (size, len(data), tag))\n",
            "/usr/local/lib/python3.6/dist-packages/PIL/TiffImagePlugin.py:725: UserWarning: Possibly corrupt EXIF data.  Expecting to read 293339136 bytes but only got 0. Skipping tag 5\n",
            "  \" Skipping tag %s\" % (size, len(data), tag))\n",
            "/usr/local/lib/python3.6/dist-packages/PIL/TiffImagePlugin.py:725: UserWarning: Possibly corrupt EXIF data.  Expecting to read 293863424 bytes but only got 0. Skipping tag 5\n",
            "  \" Skipping tag %s\" % (size, len(data), tag))\n",
            "/usr/local/lib/python3.6/dist-packages/PIL/TiffImagePlugin.py:725: UserWarning: Possibly corrupt EXIF data.  Expecting to read 295698432 bytes but only got 0. Skipping tag 10\n",
            "  \" Skipping tag %s\" % (size, len(data), tag))\n",
            "/usr/local/lib/python3.6/dist-packages/PIL/TiffImagePlugin.py:725: UserWarning: Possibly corrupt EXIF data.  Expecting to read 296222720 bytes but only got 0. Skipping tag 5\n",
            "  \" Skipping tag %s\" % (size, len(data), tag))\n",
            "/usr/local/lib/python3.6/dist-packages/PIL/TiffImagePlugin.py:725: UserWarning: Possibly corrupt EXIF data.  Expecting to read 14745600 bytes but only got 0. Skipping tag 4\n",
            "  \" Skipping tag %s\" % (size, len(data), tag))\n",
            "/usr/local/lib/python3.6/dist-packages/PIL/TiffImagePlugin.py:725: UserWarning: Possibly corrupt EXIF data.  Expecting to read 25624576 bytes but only got 0. Skipping tag 4\n",
            "  \" Skipping tag %s\" % (size, len(data), tag))\n",
            "/usr/local/lib/python3.6/dist-packages/PIL/TiffImagePlugin.py:725: UserWarning: Possibly corrupt EXIF data.  Expecting to read 317718528 bytes but only got 4956. Skipping tag 4\n",
            "  \" Skipping tag %s\" % (size, len(data), tag))\n",
            "/usr/local/lib/python3.6/dist-packages/PIL/TiffImagePlugin.py:725: UserWarning: Possibly corrupt EXIF data.  Expecting to read 131073 bytes but only got 4952. Skipping tag 0\n",
            "  \" Skipping tag %s\" % (size, len(data), tag))\n",
            "/usr/local/lib/python3.6/dist-packages/PIL/TiffImagePlugin.py:725: UserWarning: Possibly corrupt EXIF data.  Expecting to read 287178752 bytes but only got 0. Skipping tag 5\n",
            "  \" Skipping tag %s\" % (size, len(data), tag))\n",
            "/usr/local/lib/python3.6/dist-packages/PIL/TiffImagePlugin.py:725: UserWarning: Possibly corrupt EXIF data.  Expecting to read 287703040 bytes but only got 0. Skipping tag 5\n",
            "  \" Skipping tag %s\" % (size, len(data), tag))\n",
            "/usr/local/lib/python3.6/dist-packages/PIL/TiffImagePlugin.py:725: UserWarning: Possibly corrupt EXIF data.  Expecting to read 286654464 bytes but only got 4956. Skipping tag 4\n",
            "  \" Skipping tag %s\" % (size, len(data), tag))\n"
          ],
          "name": "stderr"
        },
        {
          "output_type": "stream",
          "text": [
            "225/225 [==============================] - 172s 766ms/step - loss: 0.7160 - acc: 0.5835 - val_loss: 0.6905 - val_acc: 0.5699\n",
            "Epoch 2/100\n",
            "225/225 [==============================] - 160s 713ms/step - loss: 0.6162 - acc: 0.6591 - val_loss: 0.5199 - val_acc: 0.7450\n",
            "Epoch 3/100\n",
            "225/225 [==============================] - 159s 705ms/step - loss: 0.5777 - acc: 0.6945 - val_loss: 0.4933 - val_acc: 0.7450\n",
            "Epoch 4/100\n",
            "225/225 [==============================] - 155s 689ms/step - loss: 0.5507 - acc: 0.7188 - val_loss: 0.4824 - val_acc: 0.7610\n",
            "Epoch 5/100\n",
            "225/225 [==============================] - 155s 690ms/step - loss: 0.5391 - acc: 0.7298 - val_loss: 0.4487 - val_acc: 0.7850\n",
            "Epoch 6/100\n",
            "225/225 [==============================] - 154s 686ms/step - loss: 0.5307 - acc: 0.7356 - val_loss: 0.4704 - val_acc: 0.7674\n",
            "Epoch 7/100\n",
            "225/225 [==============================] - 154s 685ms/step - loss: 0.5144 - acc: 0.7447 - val_loss: 0.4349 - val_acc: 0.8066\n",
            "Epoch 8/100\n",
            "225/225 [==============================] - 155s 687ms/step - loss: 0.5012 - acc: 0.7544 - val_loss: 0.4274 - val_acc: 0.8094\n",
            "Epoch 9/100\n",
            "225/225 [==============================] - 155s 690ms/step - loss: 0.4893 - acc: 0.7661 - val_loss: 0.4132 - val_acc: 0.8125\n",
            "Epoch 10/100\n",
            "225/225 [==============================] - 154s 684ms/step - loss: 0.4774 - acc: 0.7719 - val_loss: 0.4612 - val_acc: 0.7938\n",
            "Epoch 11/100\n",
            "225/225 [==============================] - 155s 687ms/step - loss: 0.4763 - acc: 0.7722 - val_loss: 0.4052 - val_acc: 0.8106\n",
            "Epoch 12/100\n",
            "225/225 [==============================] - 154s 684ms/step - loss: 0.4664 - acc: 0.7776 - val_loss: 0.4323 - val_acc: 0.8034\n",
            "Epoch 13/100\n",
            "225/225 [==============================] - 156s 692ms/step - loss: 0.4597 - acc: 0.7866 - val_loss: 0.4506 - val_acc: 0.7830\n",
            "Epoch 14/100\n",
            "225/225 [==============================] - 156s 693ms/step - loss: 0.4501 - acc: 0.7894 - val_loss: 0.3608 - val_acc: 0.8453\n",
            "Epoch 15/100\n",
            "225/225 [==============================] - 155s 689ms/step - loss: 0.4398 - acc: 0.7950 - val_loss: 0.3442 - val_acc: 0.8473\n",
            "Epoch 16/100\n",
            "225/225 [==============================] - 158s 701ms/step - loss: 0.4285 - acc: 0.8019 - val_loss: 0.3785 - val_acc: 0.8393\n",
            "Epoch 17/100\n",
            "225/225 [==============================] - 156s 693ms/step - loss: 0.4266 - acc: 0.8026 - val_loss: 0.3450 - val_acc: 0.8477\n",
            "Epoch 18/100\n",
            "225/225 [==============================] - 155s 687ms/step - loss: 0.4201 - acc: 0.8109 - val_loss: 0.5307 - val_acc: 0.7946\n",
            "Epoch 19/100\n",
            "225/225 [==============================] - 155s 689ms/step - loss: 0.4130 - acc: 0.8122 - val_loss: 0.3708 - val_acc: 0.8401\n",
            "Epoch 20/100\n",
            "225/225 [==============================] - 154s 685ms/step - loss: 0.4090 - acc: 0.8154 - val_loss: 0.3497 - val_acc: 0.8409\n",
            "Epoch 21/100\n",
            "225/225 [==============================] - 155s 688ms/step - loss: 0.4018 - acc: 0.8186 - val_loss: 0.4189 - val_acc: 0.8221\n",
            "Epoch 22/100\n",
            "225/225 [==============================] - 154s 686ms/step - loss: 0.4015 - acc: 0.8198 - val_loss: 0.3069 - val_acc: 0.8709\n",
            "Epoch 23/100\n",
            "225/225 [==============================] - 154s 686ms/step - loss: 0.3976 - acc: 0.8237 - val_loss: 0.3069 - val_acc: 0.8697\n",
            "Epoch 24/100\n",
            "225/225 [==============================] - 155s 688ms/step - loss: 0.3905 - acc: 0.8219 - val_loss: 0.3314 - val_acc: 0.8569\n",
            "Epoch 25/100\n",
            "225/225 [==============================] - 155s 691ms/step - loss: 0.3872 - acc: 0.8255 - val_loss: 0.4892 - val_acc: 0.7882\n",
            "Epoch 26/100\n",
            "225/225 [==============================] - 155s 689ms/step - loss: 0.3908 - acc: 0.8259 - val_loss: 0.6408 - val_acc: 0.7014\n",
            "Epoch 27/100\n",
            "225/225 [==============================] - 155s 690ms/step - loss: 0.3865 - acc: 0.8315 - val_loss: 0.3546 - val_acc: 0.8665\n",
            "Epoch 28/100\n",
            "225/225 [==============================] - 156s 694ms/step - loss: 0.3813 - acc: 0.8302 - val_loss: 0.3247 - val_acc: 0.8629\n",
            "Epoch 29/100\n",
            "225/225 [==============================] - 155s 689ms/step - loss: 0.3752 - acc: 0.8324 - val_loss: 0.3369 - val_acc: 0.8537\n",
            "Epoch 30/100\n",
            "225/225 [==============================] - 154s 686ms/step - loss: 0.3712 - acc: 0.8332 - val_loss: 0.3254 - val_acc: 0.8525\n",
            "Epoch 31/100\n",
            "225/225 [==============================] - 155s 689ms/step - loss: 0.3733 - acc: 0.8365 - val_loss: 0.3116 - val_acc: 0.8717\n",
            "Epoch 32/100\n",
            "225/225 [==============================] - 154s 686ms/step - loss: 0.3711 - acc: 0.8337 - val_loss: 0.2706 - val_acc: 0.8845\n",
            "Epoch 33/100\n",
            "225/225 [==============================] - 153s 681ms/step - loss: 0.3700 - acc: 0.8391 - val_loss: 0.2929 - val_acc: 0.8741\n",
            "Epoch 34/100\n",
            "225/225 [==============================] - 153s 681ms/step - loss: 0.3612 - acc: 0.8423 - val_loss: 0.2867 - val_acc: 0.8761\n",
            "Epoch 35/100\n",
            "225/225 [==============================] - 153s 681ms/step - loss: 0.3598 - acc: 0.8449 - val_loss: 0.2888 - val_acc: 0.8789\n",
            "Epoch 36/100\n",
            "225/225 [==============================] - 153s 679ms/step - loss: 0.3577 - acc: 0.8445 - val_loss: 0.2730 - val_acc: 0.8789\n",
            "Epoch 37/100\n",
            "225/225 [==============================] - 155s 690ms/step - loss: 0.3596 - acc: 0.8438 - val_loss: 0.3272 - val_acc: 0.8665\n",
            "Epoch 38/100\n",
            "225/225 [==============================] - 156s 691ms/step - loss: 0.3573 - acc: 0.8430 - val_loss: 0.3039 - val_acc: 0.8745\n",
            "Epoch 39/100\n",
            "225/225 [==============================] - 155s 688ms/step - loss: 0.3532 - acc: 0.8464 - val_loss: 0.3421 - val_acc: 0.8697\n",
            "Epoch 40/100\n",
            "225/225 [==============================] - 155s 690ms/step - loss: 0.3538 - acc: 0.8457 - val_loss: 0.3258 - val_acc: 0.8601\n",
            "Epoch 41/100\n",
            "225/225 [==============================] - 155s 691ms/step - loss: 0.3539 - acc: 0.8448 - val_loss: 0.3246 - val_acc: 0.8625\n",
            "Epoch 42/100\n",
            "225/225 [==============================] - 157s 699ms/step - loss: 0.3533 - acc: 0.8460 - val_loss: 0.2667 - val_acc: 0.8817\n",
            "Epoch 43/100\n",
            "225/225 [==============================] - 155s 689ms/step - loss: 0.3506 - acc: 0.8475 - val_loss: 0.3334 - val_acc: 0.8533\n",
            "Epoch 44/100\n",
            "225/225 [==============================] - 155s 687ms/step - loss: 0.3453 - acc: 0.8526 - val_loss: 0.2607 - val_acc: 0.8909\n",
            "Epoch 45/100\n",
            "225/225 [==============================] - 156s 694ms/step - loss: 0.3426 - acc: 0.8515 - val_loss: 0.4398 - val_acc: 0.8193\n",
            "Epoch 46/100\n",
            "225/225 [==============================] - 156s 695ms/step - loss: 0.3427 - acc: 0.8532 - val_loss: 0.3149 - val_acc: 0.8645\n",
            "Epoch 47/100\n",
            "225/225 [==============================] - 159s 705ms/step - loss: 0.3470 - acc: 0.8490 - val_loss: 0.3263 - val_acc: 0.8713\n",
            "Epoch 48/100\n",
            "225/225 [==============================] - 159s 708ms/step - loss: 0.3479 - acc: 0.8506 - val_loss: 0.2529 - val_acc: 0.8905\n",
            "Epoch 49/100\n",
            "225/225 [==============================] - 159s 707ms/step - loss: 0.3422 - acc: 0.8548 - val_loss: 0.3479 - val_acc: 0.8473\n",
            "Epoch 50/100\n",
            "225/225 [==============================] - 159s 706ms/step - loss: 0.3405 - acc: 0.8521 - val_loss: 0.2877 - val_acc: 0.8865\n",
            "Epoch 51/100\n",
            "225/225 [==============================] - 158s 704ms/step - loss: 0.3406 - acc: 0.8535 - val_loss: 0.3330 - val_acc: 0.8573\n",
            "Epoch 52/100\n",
            "225/225 [==============================] - 159s 706ms/step - loss: 0.3416 - acc: 0.8532 - val_loss: 0.2592 - val_acc: 0.8873\n",
            "Epoch 53/100\n",
            "225/225 [==============================] - 159s 706ms/step - loss: 0.3388 - acc: 0.8560 - val_loss: 0.3320 - val_acc: 0.8637\n",
            "Epoch 54/100\n",
            "225/225 [==============================] - 157s 699ms/step - loss: 0.3383 - acc: 0.8525 - val_loss: 0.3037 - val_acc: 0.8785\n",
            "Epoch 55/100\n",
            "225/225 [==============================] - 158s 704ms/step - loss: 0.3423 - acc: 0.8542 - val_loss: 0.3007 - val_acc: 0.8757\n",
            "Epoch 56/100\n",
            "225/225 [==============================] - 158s 703ms/step - loss: 0.3333 - acc: 0.8593 - val_loss: 0.2772 - val_acc: 0.8785\n",
            "Epoch 57/100\n",
            "225/225 [==============================] - 156s 693ms/step - loss: 0.3406 - acc: 0.8558 - val_loss: 0.2662 - val_acc: 0.8889\n",
            "Epoch 58/100\n",
            "225/225 [==============================] - 155s 687ms/step - loss: 0.3379 - acc: 0.8548 - val_loss: 0.2848 - val_acc: 0.8817\n",
            "Epoch 59/100\n",
            "225/225 [==============================] - 154s 682ms/step - loss: 0.3303 - acc: 0.8623 - val_loss: 0.3225 - val_acc: 0.8601\n",
            "Epoch 60/100\n",
            "225/225 [==============================] - 156s 694ms/step - loss: 0.3296 - acc: 0.8579 - val_loss: 0.3148 - val_acc: 0.8705\n",
            "Epoch 61/100\n",
            "225/225 [==============================] - 155s 688ms/step - loss: 0.3274 - acc: 0.8580 - val_loss: 0.3024 - val_acc: 0.8777\n",
            "Epoch 62/100\n",
            "225/225 [==============================] - 154s 683ms/step - loss: 0.3297 - acc: 0.8578 - val_loss: 0.2401 - val_acc: 0.8989\n",
            "Epoch 63/100\n",
            "225/225 [==============================] - 153s 681ms/step - loss: 0.3356 - acc: 0.8572 - val_loss: 0.2933 - val_acc: 0.8697\n",
            "Epoch 64/100\n",
            "225/225 [==============================] - 154s 683ms/step - loss: 0.3274 - acc: 0.8608 - val_loss: 0.2724 - val_acc: 0.8981\n",
            "Epoch 65/100\n",
            "225/225 [==============================] - 155s 691ms/step - loss: 0.3291 - acc: 0.8609 - val_loss: 0.3106 - val_acc: 0.8833\n",
            "Epoch 66/100\n",
            "225/225 [==============================] - 155s 691ms/step - loss: 0.3323 - acc: 0.8578 - val_loss: 0.2420 - val_acc: 0.8957\n",
            "Epoch 67/100\n",
            "225/225 [==============================] - 154s 686ms/step - loss: 0.3320 - acc: 0.8600 - val_loss: 0.2475 - val_acc: 0.8965\n",
            "Epoch 68/100\n",
            "225/225 [==============================] - 154s 684ms/step - loss: 0.3342 - acc: 0.8588 - val_loss: 0.4768 - val_acc: 0.8473\n",
            "Epoch 69/100\n",
            "225/225 [==============================] - 154s 687ms/step - loss: 0.3322 - acc: 0.8604 - val_loss: 0.2901 - val_acc: 0.8765\n",
            "Epoch 70/100\n",
            "225/225 [==============================] - 156s 691ms/step - loss: 0.3296 - acc: 0.8581 - val_loss: 0.3561 - val_acc: 0.8425\n",
            "Epoch 71/100\n",
            "225/225 [==============================] - 155s 689ms/step - loss: 0.3307 - acc: 0.8606 - val_loss: 0.2883 - val_acc: 0.8713\n",
            "Epoch 72/100\n",
            "225/225 [==============================] - 157s 696ms/step - loss: 0.3268 - acc: 0.8624 - val_loss: 0.2486 - val_acc: 0.8977\n",
            "Epoch 73/100\n",
            "225/225 [==============================] - 157s 696ms/step - loss: 0.3335 - acc: 0.8570 - val_loss: 0.2300 - val_acc: 0.8961\n",
            "Epoch 74/100\n",
            "225/225 [==============================] - 161s 717ms/step - loss: 0.3290 - acc: 0.8596 - val_loss: 0.2892 - val_acc: 0.8745\n",
            "Epoch 75/100\n",
            "225/225 [==============================] - 163s 723ms/step - loss: 0.3302 - acc: 0.8602 - val_loss: 0.2747 - val_acc: 0.8921\n",
            "Epoch 76/100\n",
            "225/225 [==============================] - 162s 720ms/step - loss: 0.3319 - acc: 0.8582 - val_loss: 0.4241 - val_acc: 0.8525\n",
            "Epoch 77/100\n",
            "225/225 [==============================] - 164s 728ms/step - loss: 0.3321 - acc: 0.8599 - val_loss: 0.3698 - val_acc: 0.8673\n",
            "Epoch 78/100\n",
            "225/225 [==============================] - 163s 727ms/step - loss: 0.3317 - acc: 0.8585 - val_loss: 0.2605 - val_acc: 0.8825\n",
            "Epoch 79/100\n",
            "225/225 [==============================] - 164s 728ms/step - loss: 0.3289 - acc: 0.8611 - val_loss: 0.2914 - val_acc: 0.8841\n",
            "Epoch 80/100\n",
            "225/225 [==============================] - 163s 727ms/step - loss: 0.3292 - acc: 0.8624 - val_loss: 0.2714 - val_acc: 0.8761\n",
            "Epoch 81/100\n",
            "225/225 [==============================] - 164s 728ms/step - loss: 0.3283 - acc: 0.8596 - val_loss: 0.2604 - val_acc: 0.8901\n",
            "Epoch 82/100\n",
            "225/225 [==============================] - 164s 728ms/step - loss: 0.3330 - acc: 0.8638 - val_loss: 0.2426 - val_acc: 0.8989\n",
            "Epoch 83/100\n",
            "225/225 [==============================] - 164s 729ms/step - loss: 0.3271 - acc: 0.8639 - val_loss: 0.2379 - val_acc: 0.9009\n",
            "Epoch 84/100\n",
            "225/225 [==============================] - 165s 732ms/step - loss: 0.3367 - acc: 0.8610 - val_loss: 0.2946 - val_acc: 0.8805\n",
            "Epoch 85/100\n",
            "225/225 [==============================] - 164s 730ms/step - loss: 0.3355 - acc: 0.8548 - val_loss: 0.2792 - val_acc: 0.8821\n",
            "Epoch 86/100\n",
            "225/225 [==============================] - 164s 731ms/step - loss: 0.3305 - acc: 0.8605 - val_loss: 0.2577 - val_acc: 0.8861\n",
            "Epoch 87/100\n",
            "225/225 [==============================] - 165s 731ms/step - loss: 0.3313 - acc: 0.8613 - val_loss: 0.2820 - val_acc: 0.8785\n",
            "Epoch 88/100\n",
            "225/225 [==============================] - 164s 729ms/step - loss: 0.3285 - acc: 0.8615 - val_loss: 0.2574 - val_acc: 0.8845\n",
            "Epoch 89/100\n",
            "225/225 [==============================] - 165s 735ms/step - loss: 0.3269 - acc: 0.8606 - val_loss: 0.3111 - val_acc: 0.8777\n",
            "Epoch 90/100\n",
            "225/225 [==============================] - 165s 734ms/step - loss: 0.3264 - acc: 0.8637 - val_loss: 0.2341 - val_acc: 0.8945\n",
            "Epoch 91/100\n",
            "225/225 [==============================] - 165s 734ms/step - loss: 0.3348 - acc: 0.8583 - val_loss: 0.2232 - val_acc: 0.9049\n",
            "Epoch 92/100\n",
            "225/225 [==============================] - 165s 734ms/step - loss: 0.3266 - acc: 0.8618 - val_loss: 0.2750 - val_acc: 0.8953\n",
            "Epoch 93/100\n",
            "225/225 [==============================] - 165s 731ms/step - loss: 0.3202 - acc: 0.8615 - val_loss: 0.2576 - val_acc: 0.9029\n",
            "Epoch 94/100\n",
            "225/225 [==============================] - 165s 731ms/step - loss: 0.3251 - acc: 0.8646 - val_loss: 0.2809 - val_acc: 0.8933\n",
            "Epoch 95/100\n",
            "225/225 [==============================] - 165s 734ms/step - loss: 0.3290 - acc: 0.8588 - val_loss: 0.3422 - val_acc: 0.8421\n",
            "Epoch 96/100\n",
            "225/225 [==============================] - 166s 738ms/step - loss: 0.3227 - acc: 0.8643 - val_loss: 0.2677 - val_acc: 0.8969\n",
            "Epoch 97/100\n",
            "225/225 [==============================] - 166s 739ms/step - loss: 0.3258 - acc: 0.8604 - val_loss: 0.3053 - val_acc: 0.8629\n",
            "Epoch 98/100\n",
            "225/225 [==============================] - 167s 741ms/step - loss: 0.3300 - acc: 0.8623 - val_loss: 0.3933 - val_acc: 0.8613\n",
            "Epoch 99/100\n",
            "225/225 [==============================] - 166s 738ms/step - loss: 0.3350 - acc: 0.8601 - val_loss: 0.2832 - val_acc: 0.8733\n",
            "Epoch 100/100\n",
            "225/225 [==============================] - 165s 732ms/step - loss: 0.3277 - acc: 0.8628 - val_loss: 0.2434 - val_acc: 0.9089\n"
          ],
          "name": "stdout"
        }
      ]
    },
    {
      "cell_type": "code",
      "metadata": {
        "id": "MWZrJN4-65RC",
        "colab_type": "code",
        "colab": {
          "base_uri": "https://localhost:8080/",
          "height": 562
        },
        "outputId": "749126c1-c655-4c8e-cbd2-4b5219657511"
      },
      "source": [
        "# PLOT LOSS AND ACCURACY\n",
        "%matplotlib inline\n",
        "\n",
        "import matplotlib.image  as mpimg\n",
        "import matplotlib.pyplot as plt\n",
        "\n",
        "#-----------------------------------------------------------\n",
        "# Retrieve a list of list results on training and test data\n",
        "# sets for each training epoch\n",
        "#-----------------------------------------------------------\n",
        "acc=history.history['acc']\n",
        "val_acc=history.history['val_acc']\n",
        "loss=history.history['loss']\n",
        "val_loss=history.history['val_loss']\n",
        "\n",
        "epochs=range(len(acc)) # Get number of epochs\n",
        "\n",
        "#------------------------------------------------\n",
        "# Plot training and validation accuracy per epoch\n",
        "#------------------------------------------------\n",
        "plt.plot(epochs, acc, 'r', \"Training Accuracy\")\n",
        "plt.plot(epochs, val_acc, 'b', \"Validation Accuracy\")\n",
        "plt.title('Training and validation accuracy')\n",
        "plt.figure()\n",
        "\n",
        "#------------------------------------------------\n",
        "# Plot training and validation loss per epoch\n",
        "#------------------------------------------------\n",
        "plt.plot(epochs, loss, 'r', \"Training Loss\")\n",
        "plt.plot(epochs, val_loss, 'b', \"Validation Loss\")\n",
        "\n",
        "\n",
        "plt.title('Training and validation loss')\n",
        "\n",
        "# Desired output. Charts with training and validation metrics. No crash :)"
      ],
      "execution_count": 10,
      "outputs": [
        {
          "output_type": "execute_result",
          "data": {
            "text/plain": [
              "Text(0.5, 1.0, 'Training and validation loss')"
            ]
          },
          "metadata": {
            "tags": []
          },
          "execution_count": 10
        },
        {
          "output_type": "display_data",
          "data": {
            "image/png": "[encoded data removed]",
            "text/plain": [
              "<Figure size 432x288 with 1 Axes>"
            ]
          },
          "metadata": {
            "tags": []
          }
        },
        {
          "output_type": "display_data",
          "data": {
            "image/png": "[encoded data removed]",
            "text/plain": [
              "<Figure size 432x288 with 1 Axes>"
            ]
          },
          "metadata": {
            "tags": []
          }
        }
      ]
    },
    {
      "cell_type": "code",
      "metadata": {
        "id": "LqL6FYUrtXpf",
        "colab_type": "code",
        "colab": {}
      },
      "source": [
        "# Here's a codeblock just for fun. You should be able to upload an image here \n",
        "# and have it classified without crashing\n",
        "\n",
        "import numpy as np\n",
        "from google.colab import files\n",
        "from keras.preprocessing import image\n",
        "\n",
        "uploaded = files.upload()\n",
        "\n",
        "for fn in uploaded.keys():\n",
        " \n",
        "  # predicting images\n",
        "  path = '/content/' + fn\n",
        "  img = image.load_img(path, target_size=(# YOUR CODE HERE))\n",
        "  x = image.img_to_array(img)\n",
        "  x = np.expand_dims(x, axis=0)\n",
        "\n",
        "  images = np.vstack([x])\n",
        "  classes = model.predict(images, batch_size=10)\n",
        "  print(classes[0])\n",
        "  if classes[0]>0.5:\n",
        "    print(fn + \" is a dog\")\n",
        "  else:\n",
        "    print(fn + \" is a cat\")"
      ],
      "execution_count": 0,
      "outputs": []
    }
  ]
}