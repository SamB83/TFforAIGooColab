{
  "nbformat": 4,
  "nbformat_minor": 0,
  "metadata": {
    "colab": {
      "name": "Sarcasmw1DConvLayer.ipynb",
      "version": "0.3.2",
      "provenance": [],
      "collapsed_sections": [],
      "include_colab_link": true
    },
    "kernelspec": {
      "name": "python3",
      "display_name": "Python 3"
    },
    "accelerator": "GPU"
  },
  "cells": [
    {
      "cell_type": "markdown",
      "metadata": {
        "id": "view-in-github",
        "colab_type": "text"
      },
      "source": [
        "<a href=\"https://colab.research.google.com/github/SamB83/TFforAIGooColab/blob/master/Sarcasmw1DConvLayer.ipynb\" target=\"_parent\"><img src=\"https://colab.research.google.com/assets/colab-badge.svg\" alt=\"Open In Colab\"/></a>"
      ]
    },
    {
      "cell_type": "code",
      "metadata": {
        "id": "jGwXGIXvFhXW",
        "colab_type": "code",
        "colab": {
          "base_uri": "https://localhost:8080/",
          "height": 1000
        },
        "outputId": "5af1be9f-cb1c-42f3-a0be-e810f1c1e3a0"
      },
      "source": [
        "import json\n",
        "import tensorflow as tf\n",
        "\n",
        "from tensorflow.keras.preprocessing.text import Tokenizer\n",
        "from tensorflow.keras.preprocessing.sequence import pad_sequences\n",
        "\n",
        "!wget --no-check-certificate \\\n",
        "    https://storage.googleapis.com/laurencemoroney-blog.appspot.com/sarcasm.json \\\n",
        "    -O /tmp/sarcasm.json\n",
        "\n",
        "vocab_size = 1000\n",
        "embedding_dim = 16\n",
        "max_length = 120\n",
        "trunc_type='post'\n",
        "padding_type='post'\n",
        "oov_tok = \"<OOV>\"\n",
        "training_size = 20000\n",
        "\n",
        "\n",
        "with open(\"/tmp/sarcasm.json\", 'r') as f:\n",
        "    datastore = json.load(f)\n",
        "\n",
        "\n",
        "sentences = []\n",
        "labels = []\n",
        "urls = []\n",
        "for item in datastore:\n",
        "    sentences.append(item['headline'])\n",
        "    labels.append(item['is_sarcastic'])\n",
        "\n",
        "training_sentences = sentences[0:training_size]\n",
        "testing_sentences = sentences[training_size:]\n",
        "training_labels = labels[0:training_size]\n",
        "testing_labels = labels[training_size:]\n",
        "\n",
        "tokenizer = Tokenizer(num_words=vocab_size, oov_token=oov_tok)\n",
        "tokenizer.fit_on_texts(training_sentences)\n",
        "\n",
        "word_index = tokenizer.word_index\n",
        "\n",
        "training_sequences = tokenizer.texts_to_sequences(training_sentences)\n",
        "training_padded = pad_sequences(training_sequences, maxlen=max_length, padding=padding_type, truncating=trunc_type)\n",
        "\n",
        "testing_sequences = tokenizer.texts_to_sequences(testing_sentences)\n",
        "testing_padded = pad_sequences(testing_sequences, maxlen=max_length, padding=padding_type, truncating=trunc_type)\n",
        "\n",
        "model = tf.keras.Sequential([\n",
        "    tf.keras.layers.Embedding(vocab_size, embedding_dim, input_length=max_length),\n",
        "    tf.keras.layers.Conv1D(128, 5, activation='relu'),\n",
        "    tf.keras.layers.GlobalMaxPooling1D(),\n",
        "    tf.keras.layers.Dense(24, activation='relu'),\n",
        "    tf.keras.layers.Dense(1, activation='sigmoid')\n",
        "])\n",
        "model.compile(loss='binary_crossentropy',optimizer='adam',metrics=['accuracy'])\n",
        "model.summary()\n",
        "\n",
        "num_epochs = 50\n",
        "history = model.fit(training_padded, training_labels, epochs=num_epochs, validation_data=(testing_padded, testing_labels), verbose=1)\n",
        "\n"
      ],
      "execution_count": 1,
      "outputs": [
        {
          "output_type": "stream",
          "text": [
            "--2019-07-08 20:56:42--  https://storage.googleapis.com/laurencemoroney-blog.appspot.com/sarcasm.json\n",
            "Resolving storage.googleapis.com (storage.googleapis.com)... 74.125.68.128, 2404:6800:4003:c04::80\n",
            "Connecting to storage.googleapis.com (storage.googleapis.com)|74.125.68.128|:443... connected.\n",
            "HTTP request sent, awaiting response... 200 OK\n",
            "Length: 5643545 (5.4M) [application/json]\n",
            "Saving to: ‘/tmp/sarcasm.json’\n",
            "\n",
            "\r/tmp/sarcasm.json     0%[                    ]       0  --.-KB/s               \r/tmp/sarcasm.json   100%[===================>]   5.38M  --.-KB/s    in 0.03s   \n",
            "\n",
            "2019-07-08 20:56:42 (193 MB/s) - ‘/tmp/sarcasm.json’ saved [5643545/5643545]\n",
            "\n"
          ],
          "name": "stdout"
        },
        {
          "output_type": "stream",
          "text": [
            "WARNING: Logging before flag parsing goes to stderr.\n",
            "W0708 20:56:44.217631 140173626251136 deprecation.py:506] From /usr/local/lib/python3.6/dist-packages/tensorflow/python/keras/initializers.py:119: calling RandomUniform.__init__ (from tensorflow.python.ops.init_ops) with dtype is deprecated and will be removed in a future version.\n",
            "Instructions for updating:\n",
            "Call initializer instance with the dtype argument instead of passing it to the constructor\n",
            "W0708 20:56:44.223797 140173626251136 deprecation.py:506] From /usr/local/lib/python3.6/dist-packages/tensorflow/python/ops/init_ops.py:1251: calling VarianceScaling.__init__ (from tensorflow.python.ops.init_ops) with dtype is deprecated and will be removed in a future version.\n",
            "Instructions for updating:\n",
            "Call initializer instance with the dtype argument instead of passing it to the constructor\n",
            "W0708 20:56:44.365840 140173626251136 deprecation.py:323] From /usr/local/lib/python3.6/dist-packages/tensorflow/python/ops/nn_impl.py:180: add_dispatch_support.<locals>.wrapper (from tensorflow.python.ops.array_ops) is deprecated and will be removed in a future version.\n",
            "Instructions for updating:\n",
            "Use tf.where in 2.0, which has the same broadcast rule as np.where\n"
          ],
          "name": "stderr"
        },
        {
          "output_type": "stream",
          "text": [
            "Model: \"sequential\"\n",
            "_________________________________________________________________\n",
            "Layer (type)                 Output Shape              Param #   \n",
            "=================================================================\n",
            "embedding (Embedding)        (None, 120, 16)           16000     \n",
            "_________________________________________________________________\n",
            "conv1d (Conv1D)              (None, 116, 128)          10368     \n",
            "_________________________________________________________________\n",
            "global_max_pooling1d (Global (None, 128)               0         \n",
            "_________________________________________________________________\n",
            "dense (Dense)                (None, 24)                3096      \n",
            "_________________________________________________________________\n",
            "dense_1 (Dense)              (None, 1)                 25        \n",
            "=================================================================\n",
            "Total params: 29,489\n",
            "Trainable params: 29,489\n",
            "Non-trainable params: 0\n",
            "_________________________________________________________________\n",
            "Train on 20000 samples, validate on 6709 samples\n",
            "Epoch 1/50\n",
            "20000/20000 [==============================] - 6s 324us/sample - loss: 0.4719 - acc: 0.7609 - val_loss: 0.4003 - val_acc: 0.8150\n",
            "Epoch 2/50\n",
            "20000/20000 [==============================] - 3s 130us/sample - loss: 0.3541 - acc: 0.8388 - val_loss: 0.3939 - val_acc: 0.8205\n",
            "Epoch 3/50\n",
            "20000/20000 [==============================] - 3s 131us/sample - loss: 0.3197 - acc: 0.8584 - val_loss: 0.3873 - val_acc: 0.8283\n",
            "Epoch 4/50\n",
            "20000/20000 [==============================] - 3s 132us/sample - loss: 0.2863 - acc: 0.8769 - val_loss: 0.4150 - val_acc: 0.8241\n",
            "Epoch 5/50\n",
            "20000/20000 [==============================] - 3s 132us/sample - loss: 0.2555 - acc: 0.8924 - val_loss: 0.4201 - val_acc: 0.8223\n",
            "Epoch 6/50\n",
            "20000/20000 [==============================] - 3s 129us/sample - loss: 0.2206 - acc: 0.9090 - val_loss: 0.4896 - val_acc: 0.8003\n",
            "Epoch 7/50\n",
            "20000/20000 [==============================] - 3s 132us/sample - loss: 0.1874 - acc: 0.9266 - val_loss: 0.5293 - val_acc: 0.8064\n",
            "Epoch 8/50\n",
            "20000/20000 [==============================] - 3s 131us/sample - loss: 0.1580 - acc: 0.9406 - val_loss: 0.5451 - val_acc: 0.8114\n",
            "Epoch 9/50\n",
            "20000/20000 [==============================] - 3s 131us/sample - loss: 0.1287 - acc: 0.9541 - val_loss: 0.6138 - val_acc: 0.8055\n",
            "Epoch 10/50\n",
            "20000/20000 [==============================] - 3s 133us/sample - loss: 0.1072 - acc: 0.9616 - val_loss: 0.6889 - val_acc: 0.8067\n",
            "Epoch 11/50\n",
            "20000/20000 [==============================] - 3s 132us/sample - loss: 0.0907 - acc: 0.9676 - val_loss: 0.7729 - val_acc: 0.7962\n",
            "Epoch 12/50\n",
            "20000/20000 [==============================] - 3s 130us/sample - loss: 0.0768 - acc: 0.9728 - val_loss: 0.8633 - val_acc: 0.7967\n",
            "Epoch 13/50\n",
            "20000/20000 [==============================] - 3s 130us/sample - loss: 0.0642 - acc: 0.9775 - val_loss: 0.9436 - val_acc: 0.7906\n",
            "Epoch 14/50\n",
            "20000/20000 [==============================] - 3s 131us/sample - loss: 0.0555 - acc: 0.9801 - val_loss: 1.0723 - val_acc: 0.7910\n",
            "Epoch 15/50\n",
            "20000/20000 [==============================] - 3s 131us/sample - loss: 0.0553 - acc: 0.9794 - val_loss: 1.0884 - val_acc: 0.7900\n",
            "Epoch 16/50\n",
            "20000/20000 [==============================] - 3s 131us/sample - loss: 0.0489 - acc: 0.9823 - val_loss: 1.2000 - val_acc: 0.7886\n",
            "Epoch 17/50\n",
            "20000/20000 [==============================] - 3s 132us/sample - loss: 0.0440 - acc: 0.9834 - val_loss: 1.2523 - val_acc: 0.7945\n",
            "Epoch 18/50\n",
            "20000/20000 [==============================] - 3s 131us/sample - loss: 0.0411 - acc: 0.9855 - val_loss: 1.3544 - val_acc: 0.7939\n",
            "Epoch 19/50\n",
            "20000/20000 [==============================] - 3s 131us/sample - loss: 0.0416 - acc: 0.9840 - val_loss: 1.3697 - val_acc: 0.7828\n",
            "Epoch 20/50\n",
            "20000/20000 [==============================] - 3s 130us/sample - loss: 0.0378 - acc: 0.9853 - val_loss: 1.5108 - val_acc: 0.7909\n",
            "Epoch 21/50\n",
            "20000/20000 [==============================] - 3s 131us/sample - loss: 0.0356 - acc: 0.9858 - val_loss: 1.4983 - val_acc: 0.7869\n",
            "Epoch 22/50\n",
            "20000/20000 [==============================] - 3s 131us/sample - loss: 0.0345 - acc: 0.9861 - val_loss: 1.5086 - val_acc: 0.7864\n",
            "Epoch 23/50\n",
            "20000/20000 [==============================] - 3s 132us/sample - loss: 0.0314 - acc: 0.9876 - val_loss: 1.5964 - val_acc: 0.7873\n",
            "Epoch 24/50\n",
            "20000/20000 [==============================] - 3s 130us/sample - loss: 0.0339 - acc: 0.9862 - val_loss: 1.6163 - val_acc: 0.7854\n",
            "Epoch 25/50\n",
            "20000/20000 [==============================] - 3s 131us/sample - loss: 0.0305 - acc: 0.9880 - val_loss: 1.7519 - val_acc: 0.7870\n",
            "Epoch 26/50\n",
            "20000/20000 [==============================] - 3s 131us/sample - loss: 0.0272 - acc: 0.9877 - val_loss: 1.7737 - val_acc: 0.7846\n",
            "Epoch 27/50\n",
            "20000/20000 [==============================] - 3s 131us/sample - loss: 0.0274 - acc: 0.9890 - val_loss: 1.8256 - val_acc: 0.7931\n",
            "Epoch 28/50\n",
            "20000/20000 [==============================] - 3s 130us/sample - loss: 0.0299 - acc: 0.9875 - val_loss: 2.0176 - val_acc: 0.7852\n",
            "Epoch 29/50\n",
            "20000/20000 [==============================] - 3s 130us/sample - loss: 0.0302 - acc: 0.9876 - val_loss: 1.9343 - val_acc: 0.7803\n",
            "Epoch 30/50\n",
            "20000/20000 [==============================] - 3s 131us/sample - loss: 0.0253 - acc: 0.9886 - val_loss: 1.9814 - val_acc: 0.7848\n",
            "Epoch 31/50\n",
            "20000/20000 [==============================] - 3s 132us/sample - loss: 0.0274 - acc: 0.9879 - val_loss: 1.9299 - val_acc: 0.7815\n",
            "Epoch 32/50\n",
            "20000/20000 [==============================] - 3s 130us/sample - loss: 0.0248 - acc: 0.9892 - val_loss: 2.0207 - val_acc: 0.7889\n",
            "Epoch 33/50\n",
            "20000/20000 [==============================] - 3s 131us/sample - loss: 0.0262 - acc: 0.9885 - val_loss: 2.1113 - val_acc: 0.7880\n",
            "Epoch 34/50\n",
            "20000/20000 [==============================] - 3s 131us/sample - loss: 0.0246 - acc: 0.9888 - val_loss: 2.1394 - val_acc: 0.7886\n",
            "Epoch 35/50\n",
            "20000/20000 [==============================] - 3s 131us/sample - loss: 0.0249 - acc: 0.9894 - val_loss: 2.2684 - val_acc: 0.7879\n",
            "Epoch 36/50\n",
            "20000/20000 [==============================] - 3s 130us/sample - loss: 0.0282 - acc: 0.9882 - val_loss: 2.3344 - val_acc: 0.7837\n",
            "Epoch 37/50\n",
            "20000/20000 [==============================] - 3s 131us/sample - loss: 0.0258 - acc: 0.9895 - val_loss: 2.1798 - val_acc: 0.7846\n",
            "Epoch 38/50\n",
            "20000/20000 [==============================] - 3s 132us/sample - loss: 0.0189 - acc: 0.9915 - val_loss: 2.2799 - val_acc: 0.7851\n",
            "Epoch 39/50\n",
            "20000/20000 [==============================] - 3s 133us/sample - loss: 0.0224 - acc: 0.9902 - val_loss: 2.2416 - val_acc: 0.7866\n",
            "Epoch 40/50\n",
            "20000/20000 [==============================] - 3s 132us/sample - loss: 0.0235 - acc: 0.9893 - val_loss: 2.2075 - val_acc: 0.7883\n",
            "Epoch 41/50\n",
            "20000/20000 [==============================] - 3s 132us/sample - loss: 0.0254 - acc: 0.9890 - val_loss: 2.2691 - val_acc: 0.7898\n",
            "Epoch 42/50\n",
            "20000/20000 [==============================] - 3s 132us/sample - loss: 0.0184 - acc: 0.9914 - val_loss: 2.2213 - val_acc: 0.7891\n",
            "Epoch 43/50\n",
            "20000/20000 [==============================] - 3s 132us/sample - loss: 0.0182 - acc: 0.9917 - val_loss: 2.3558 - val_acc: 0.7891\n",
            "Epoch 44/50\n",
            "20000/20000 [==============================] - 3s 131us/sample - loss: 0.0265 - acc: 0.9891 - val_loss: 2.3831 - val_acc: 0.7894\n",
            "Epoch 45/50\n",
            "20000/20000 [==============================] - 3s 131us/sample - loss: 0.0238 - acc: 0.9895 - val_loss: 2.3127 - val_acc: 0.7809\n",
            "Epoch 46/50\n",
            "20000/20000 [==============================] - 3s 130us/sample - loss: 0.0199 - acc: 0.9911 - val_loss: 2.4680 - val_acc: 0.7821\n",
            "Epoch 47/50\n",
            "20000/20000 [==============================] - 3s 130us/sample - loss: 0.0235 - acc: 0.9893 - val_loss: 2.4791 - val_acc: 0.7883\n",
            "Epoch 48/50\n",
            "20000/20000 [==============================] - 3s 129us/sample - loss: 0.0228 - acc: 0.9900 - val_loss: 2.4793 - val_acc: 0.7937\n",
            "Epoch 49/50\n",
            "20000/20000 [==============================] - 3s 129us/sample - loss: 0.0179 - acc: 0.9916 - val_loss: 2.5485 - val_acc: 0.7864\n",
            "Epoch 50/50\n",
            "20000/20000 [==============================] - 3s 130us/sample - loss: 0.0157 - acc: 0.9924 - val_loss: 2.6394 - val_acc: 0.7854\n"
          ],
          "name": "stdout"
        }
      ]
    },
    {
      "cell_type": "code",
      "metadata": {
        "id": "g9DC6dmLF8DC",
        "colab_type": "code",
        "colab": {
          "base_uri": "https://localhost:8080/",
          "height": 549
        },
        "outputId": "ce90adbe-a76a-4587-a742-d1a798795351"
      },
      "source": [
        "import matplotlib.pyplot as plt\n",
        "\n",
        "\n",
        "def plot_graphs(history, string):\n",
        "  plt.plot(history.history[string])\n",
        "  plt.plot(history.history['val_'+string])\n",
        "  plt.xlabel(\"Epochs\")\n",
        "  plt.ylabel(string)\n",
        "  plt.legend([string, 'val_'+string])\n",
        "  plt.show()\n",
        "\n",
        "plot_graphs(history, 'acc')\n",
        "plot_graphs(history, 'loss')"
      ],
      "execution_count": 2,
      "outputs": [
        {
          "output_type": "display_data",
          "data": {
            "image/png": "[encoded data removed]",
            "text/plain": [
              "<Figure size 432x288 with 1 Axes>"
            ]
          },
          "metadata": {
            "tags": []
          }
        },
        {
          "output_type": "display_data",
          "data": {
            "image/png": "[encoded data removed]",
            "text/plain": [
              "<Figure size 432x288 with 1 Axes>"
            ]
          },
          "metadata": {
            "tags": []
          }
        }
      ]
    },
    {
      "cell_type": "code",
      "metadata": {
        "id": "7ZEZIUppGhdi",
        "colab_type": "code",
        "colab": {}
      },
      "source": [
        "model.save(\"test.h5\")"
      ],
      "execution_count": 0,
      "outputs": []
    }
  ]
}