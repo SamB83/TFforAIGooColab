{
  "nbformat": 4,
  "nbformat_minor": 0,
  "metadata": {
    "colab": {
      "name": "Horse-or-Human-CNNWithAug.ipynb",
      "version": "0.3.2",
      "provenance": [],
      "collapsed_sections": [],
      "toc_visible": true,
      "include_colab_link": true
    },
    "kernelspec": {
      "name": "python3",
      "display_name": "Python 3"
    },
    "accelerator": "GPU"
  },
  "cells": [
    {
      "cell_type": "markdown",
      "metadata": {
        "id": "view-in-github",
        "colab_type": "text"
      },
      "source": [
        "<a href=\"https://colab.research.google.com/github/SamB83/TFforAIGooColab/blob/master/Horse_or_Human_CNNWithAug.ipynb\" target=\"_parent\"><img src=\"https://colab.research.google.com/assets/colab-badge.svg\" alt=\"Open In Colab\"/></a>"
      ]
    },
    {
      "cell_type": "code",
      "metadata": {
        "colab_type": "code",
        "id": "RXZT2UsyIVe_",
        "colab": {
          "base_uri": "https://localhost:8080/",
          "height": 419
        },
        "outputId": "7677c60d-f43f-40bb-ce52-1eb66b385914"
      },
      "source": [
        "!wget --no-check-certificate \\\n",
        "    https://storage.googleapis.com/laurencemoroney-blog.appspot.com/horse-or-human.zip \\\n",
        "    -O /tmp/horse-or-human.zip\n",
        "\n",
        "!wget --no-check-certificate \\\n",
        "    https://storage.googleapis.com/laurencemoroney-blog.appspot.com/validation-horse-or-human.zip \\\n",
        "    -O /tmp/validation-horse-or-human.zip\n",
        "  \n",
        "import os\n",
        "import zipfile\n",
        "\n",
        "local_zip = '/tmp/horse-or-human.zip'\n",
        "zip_ref = zipfile.ZipFile(local_zip, 'r')\n",
        "zip_ref.extractall('/tmp/horse-or-human')\n",
        "local_zip = '/tmp/validation-horse-or-human.zip'\n",
        "zip_ref = zipfile.ZipFile(local_zip, 'r')\n",
        "zip_ref.extractall('/tmp/validation-horse-or-human')\n",
        "zip_ref.close()\n",
        "# Directory with our training horse pictures\n",
        "train_horse_dir = os.path.join('/tmp/horse-or-human/horses')\n",
        "\n",
        "# Directory with our training human pictures\n",
        "train_human_dir = os.path.join('/tmp/horse-or-human/humans')\n",
        "\n",
        "# Directory with our training horse pictures\n",
        "validation_horse_dir = os.path.join('/tmp/validation-horse-or-human/horses')\n",
        "\n",
        "# Directory with our training human pictures\n",
        "validation_human_dir = os.path.join('/tmp/validation-horse-or-human/humans')"
      ],
      "execution_count": 1,
      "outputs": [
        {
          "output_type": "stream",
          "text": [
            "--2019-06-23 23:28:23--  https://storage.googleapis.com/laurencemoroney-blog.appspot.com/horse-or-human.zip\n",
            "Resolving storage.googleapis.com (storage.googleapis.com)... 172.217.24.144, 2404:6800:4004:806::2010\n",
            "Connecting to storage.googleapis.com (storage.googleapis.com)|172.217.24.144|:443... connected.\n",
            "HTTP request sent, awaiting response... 200 OK\n",
            "Length: 149574867 (143M) [application/zip]\n",
            "Saving to: ‘/tmp/horse-or-human.zip’\n",
            "\n",
            "/tmp/horse-or-human 100%[===================>] 142.65M   105MB/s    in 1.4s    \n",
            "\n",
            "2019-06-23 23:28:25 (105 MB/s) - ‘/tmp/horse-or-human.zip’ saved [149574867/149574867]\n",
            "\n",
            "--2019-06-23 23:28:26--  https://storage.googleapis.com/laurencemoroney-blog.appspot.com/validation-horse-or-human.zip\n",
            "Resolving storage.googleapis.com (storage.googleapis.com)... 172.217.24.144, 2404:6800:4004:806::2010\n",
            "Connecting to storage.googleapis.com (storage.googleapis.com)|172.217.24.144|:443... connected.\n",
            "HTTP request sent, awaiting response... 200 OK\n",
            "Length: 11480187 (11M) [application/zip]\n",
            "Saving to: ‘/tmp/validation-horse-or-human.zip’\n",
            "\n",
            "/tmp/validation-hor 100%[===================>]  10.95M  48.2MB/s    in 0.2s    \n",
            "\n",
            "2019-06-23 23:28:26 (48.2 MB/s) - ‘/tmp/validation-horse-or-human.zip’ saved [11480187/11480187]\n",
            "\n"
          ],
          "name": "stdout"
        }
      ]
    },
    {
      "cell_type": "markdown",
      "metadata": {
        "colab_type": "text",
        "id": "5oqBkNBJmtUv"
      },
      "source": [
        "## Building a Small Model from Scratch\n",
        "\n",
        "But before we continue, let's start defining the model:\n",
        "\n",
        "Step 1 will be to import tensorflow."
      ]
    },
    {
      "cell_type": "code",
      "metadata": {
        "id": "qvfZg3LQbD-5",
        "colab_type": "code",
        "colab": {}
      },
      "source": [
        "import tensorflow as tf"
      ],
      "execution_count": 0,
      "outputs": []
    },
    {
      "cell_type": "markdown",
      "metadata": {
        "colab_type": "text",
        "id": "BnhYCP4tdqjC"
      },
      "source": [
        "We then add convolutional layers as in the previous example, and flatten the final result to feed into the densely connected layers."
      ]
    },
    {
      "cell_type": "markdown",
      "metadata": {
        "id": "gokG5HKpdtzm",
        "colab_type": "text"
      },
      "source": [
        "Finally we add the densely connected layers. \n",
        "\n",
        "Note that because we are facing a two-class classification problem, i.e. a *binary classification problem*, we will end our network with a [*sigmoid* activation](https://wikipedia.org/wiki/Sigmoid_function), so that the output of our network will be a single scalar between 0 and 1, encoding the probability that the current image is class 1 (as opposed to class 0)."
      ]
    },
    {
      "cell_type": "code",
      "metadata": {
        "id": "PixZ2s5QbYQ3",
        "colab_type": "code",
        "colab": {
          "base_uri": "https://localhost:8080/",
          "height": 106
        },
        "outputId": "29cf0657-b35b-41be-ce1b-52372d62b372"
      },
      "source": [
        "model = tf.keras.models.Sequential([\n",
        "    # Note the input shape is the desired size of the image 300x300 with 3 bytes color\n",
        "    # This is the first convolution\n",
        "    tf.keras.layers.Conv2D(16, (3,3), activation='relu', input_shape=(300, 300, 3)),\n",
        "    tf.keras.layers.MaxPooling2D(2, 2),\n",
        "    # The second convolution\n",
        "    tf.keras.layers.Conv2D(32, (3,3), activation='relu'),\n",
        "    tf.keras.layers.MaxPooling2D(2,2),\n",
        "    # The third convolution\n",
        "    tf.keras.layers.Conv2D(64, (3,3), activation='relu'),\n",
        "    tf.keras.layers.MaxPooling2D(2,2),\n",
        "    # The fourth convolution\n",
        "    tf.keras.layers.Conv2D(64, (3,3), activation='relu'),\n",
        "    tf.keras.layers.MaxPooling2D(2,2),\n",
        "    # The fifth convolution\n",
        "    tf.keras.layers.Conv2D(64, (3,3), activation='relu'),\n",
        "    tf.keras.layers.MaxPooling2D(2,2),\n",
        "    # Flatten the results to feed into a DNN\n",
        "    tf.keras.layers.Flatten(),\n",
        "    # 512 neuron hidden layer\n",
        "    tf.keras.layers.Dense(512, activation='relu'),\n",
        "    # Only 1 output neuron. It will contain a value from 0-1 where 0 for 1 class ('horses') and 1 for the other ('humans')\n",
        "    tf.keras.layers.Dense(1, activation='sigmoid')\n",
        "])"
      ],
      "execution_count": 3,
      "outputs": [
        {
          "output_type": "stream",
          "text": [
            "WARNING: Logging before flag parsing goes to stderr.\n",
            "W0623 23:28:35.370407 140228565366656 deprecation.py:506] From /usr/local/lib/python3.6/dist-packages/tensorflow/python/ops/init_ops.py:1251: calling VarianceScaling.__init__ (from tensorflow.python.ops.init_ops) with dtype is deprecated and will be removed in a future version.\n",
            "Instructions for updating:\n",
            "Call initializer instance with the dtype argument instead of passing it to the constructor\n"
          ],
          "name": "stderr"
        }
      ]
    },
    {
      "cell_type": "code",
      "metadata": {
        "colab_type": "code",
        "id": "8DHWhFP_uhq3",
        "colab": {
          "base_uri": "https://localhost:8080/",
          "height": 89
        },
        "outputId": "2d246799-6bf4-463c-d95d-4ae52e0ed60c"
      },
      "source": [
        "from tensorflow.keras.optimizers import RMSprop\n",
        "\n",
        "model.compile(loss='binary_crossentropy',\n",
        "              optimizer=RMSprop(lr=1e-4),\n",
        "              metrics=['acc'])"
      ],
      "execution_count": 4,
      "outputs": [
        {
          "output_type": "stream",
          "text": [
            "W0623 23:28:47.377170 140228565366656 deprecation.py:323] From /usr/local/lib/python3.6/dist-packages/tensorflow/python/ops/nn_impl.py:180: add_dispatch_support.<locals>.wrapper (from tensorflow.python.ops.array_ops) is deprecated and will be removed in a future version.\n",
            "Instructions for updating:\n",
            "Use tf.where in 2.0, which has the same broadcast rule as np.where\n"
          ],
          "name": "stderr"
        }
      ]
    },
    {
      "cell_type": "code",
      "metadata": {
        "colab_type": "code",
        "id": "ClebU9NJg99G",
        "colab": {
          "base_uri": "https://localhost:8080/",
          "height": 52
        },
        "outputId": "e235690a-7aaf-4598-b4c6-921bd68ab5c4"
      },
      "source": [
        "from tensorflow.keras.preprocessing.image import ImageDataGenerator\n",
        "\n",
        "# All images will be rescaled by 1./255\n",
        "train_datagen = ImageDataGenerator(\n",
        "      rescale=1./255,\n",
        "      rotation_range=40,\n",
        "      width_shift_range=0.2,\n",
        "      height_shift_range=0.2,\n",
        "      shear_range=0.2,\n",
        "      zoom_range=0.2,\n",
        "      horizontal_flip=True,\n",
        "      fill_mode='nearest')\n",
        "\n",
        "validation_datagen = ImageDataGenerator(rescale=1/255)\n",
        "\n",
        "# Flow training images in batches of 128 using train_datagen generator\n",
        "train_generator = train_datagen.flow_from_directory(\n",
        "        '/tmp/horse-or-human/',  # This is the source directory for training images\n",
        "        target_size=(300, 300),  # All images will be resized to 150x150\n",
        "        batch_size=128,\n",
        "        # Since we use binary_crossentropy loss, we need binary labels\n",
        "        class_mode='binary')\n",
        "\n",
        "# Flow training images in batches of 128 using train_datagen generator\n",
        "validation_generator = validation_datagen.flow_from_directory(\n",
        "        '/tmp/validation-horse-or-human/',  # This is the source directory for training images\n",
        "        target_size=(300, 300),  # All images will be resized to 150x150\n",
        "        batch_size=32,\n",
        "        # Since we use binary_crossentropy loss, we need binary labels\n",
        "        class_mode='binary')"
      ],
      "execution_count": 5,
      "outputs": [
        {
          "output_type": "stream",
          "text": [
            "Found 1027 images belonging to 2 classes.\n",
            "Found 256 images belonging to 2 classes.\n"
          ],
          "name": "stdout"
        }
      ]
    },
    {
      "cell_type": "code",
      "metadata": {
        "colab_type": "code",
        "id": "Fb1_lgobv81m",
        "colab": {
          "base_uri": "https://localhost:8080/",
          "height": 3490
        },
        "outputId": "aeef7dd2-7e24-4753-d3d7-0433afe31483"
      },
      "source": [
        "history = model.fit_generator(\n",
        "      train_generator,\n",
        "      steps_per_epoch=8,  \n",
        "      epochs=100,\n",
        "      verbose=1,\n",
        "      validation_data = validation_generator,\n",
        "      validation_steps=8)"
      ],
      "execution_count": 6,
      "outputs": [
        {
          "output_type": "stream",
          "text": [
            "Epoch 1/100\n",
            "8/8 [==============================] - 22s 3s/step - loss: 0.6900 - acc: 0.5161 - val_loss: 0.6900 - val_acc: 0.5000\n",
            "Epoch 2/100\n",
            "8/8 [==============================] - 19s 2s/step - loss: 0.6823 - acc: 0.5940 - val_loss: 0.6527 - val_acc: 0.5859\n",
            "Epoch 3/100\n",
            "8/8 [==============================] - 22s 3s/step - loss: 0.6454 - acc: 0.7002 - val_loss: 0.5959 - val_acc: 0.8047\n",
            "Epoch 4/100\n",
            "8/8 [==============================] - 19s 2s/step - loss: 0.6215 - acc: 0.7152 - val_loss: 0.6827 - val_acc: 0.5312\n",
            "Epoch 5/100\n",
            "8/8 [==============================] - 17s 2s/step - loss: 0.6021 - acc: 0.6938 - val_loss: 0.6732 - val_acc: 0.5586\n",
            "Epoch 6/100\n",
            "8/8 [==============================] - 19s 2s/step - loss: 0.5849 - acc: 0.6919 - val_loss: 0.7060 - val_acc: 0.5625\n",
            "Epoch 7/100\n",
            "8/8 [==============================] - 22s 3s/step - loss: 0.5137 - acc: 0.7773 - val_loss: 0.8184 - val_acc: 0.5391\n",
            "Epoch 8/100\n",
            "8/8 [==============================] - 19s 2s/step - loss: 0.5499 - acc: 0.7275 - val_loss: 0.7532 - val_acc: 0.5781\n",
            "Epoch 9/100\n",
            "8/8 [==============================] - 19s 2s/step - loss: 0.5251 - acc: 0.7453 - val_loss: 0.7479 - val_acc: 0.5859\n",
            "Epoch 10/100\n",
            "8/8 [==============================] - 19s 2s/step - loss: 0.5176 - acc: 0.7497 - val_loss: 0.9159 - val_acc: 0.5547\n",
            "Epoch 11/100\n",
            "8/8 [==============================] - 22s 3s/step - loss: 0.4908 - acc: 0.7598 - val_loss: 0.8962 - val_acc: 0.5820\n",
            "Epoch 12/100\n",
            "8/8 [==============================] - 17s 2s/step - loss: 0.5623 - acc: 0.6964 - val_loss: 0.8760 - val_acc: 0.5820\n",
            "Epoch 13/100\n",
            "8/8 [==============================] - 19s 2s/step - loss: 0.4336 - acc: 0.8042 - val_loss: 0.8518 - val_acc: 0.6172\n",
            "Epoch 14/100\n",
            "8/8 [==============================] - 22s 3s/step - loss: 0.4495 - acc: 0.7959 - val_loss: 1.2141 - val_acc: 0.5703\n",
            "Epoch 15/100\n",
            "8/8 [==============================] - 19s 2s/step - loss: 0.5205 - acc: 0.7586 - val_loss: 1.2264 - val_acc: 0.5742\n",
            "Epoch 16/100\n",
            "8/8 [==============================] - 19s 2s/step - loss: 0.5291 - acc: 0.7542 - val_loss: 1.0864 - val_acc: 0.5781\n",
            "Epoch 17/100\n",
            "8/8 [==============================] - 19s 2s/step - loss: 0.4617 - acc: 0.7864 - val_loss: 1.2551 - val_acc: 0.5625\n",
            "Epoch 18/100\n",
            "8/8 [==============================] - 19s 2s/step - loss: 0.3920 - acc: 0.8176 - val_loss: 0.9944 - val_acc: 0.6250\n",
            "Epoch 19/100\n",
            "8/8 [==============================] - 19s 2s/step - loss: 0.4931 - acc: 0.7887 - val_loss: 1.1753 - val_acc: 0.5898\n",
            "Epoch 20/100\n",
            "8/8 [==============================] - 19s 2s/step - loss: 0.3941 - acc: 0.8131 - val_loss: 0.9567 - val_acc: 0.6602\n",
            "Epoch 21/100\n",
            "8/8 [==============================] - 19s 2s/step - loss: 0.3984 - acc: 0.7987 - val_loss: 1.5977 - val_acc: 0.5586\n",
            "Epoch 22/100\n",
            "8/8 [==============================] - 22s 3s/step - loss: 0.3818 - acc: 0.8389 - val_loss: 1.0742 - val_acc: 0.6445\n",
            "Epoch 23/100\n",
            "8/8 [==============================] - 19s 2s/step - loss: 0.3901 - acc: 0.8242 - val_loss: 1.4642 - val_acc: 0.5977\n",
            "Epoch 24/100\n",
            "8/8 [==============================] - 19s 2s/step - loss: 0.4215 - acc: 0.8120 - val_loss: 1.2591 - val_acc: 0.6289\n",
            "Epoch 25/100\n",
            "8/8 [==============================] - 19s 2s/step - loss: 0.3730 - acc: 0.8142 - val_loss: 1.6923 - val_acc: 0.5664\n",
            "Epoch 26/100\n",
            "8/8 [==============================] - 19s 2s/step - loss: 0.3380 - acc: 0.8331 - val_loss: 1.6505 - val_acc: 0.5859\n",
            "Epoch 27/100\n",
            "8/8 [==============================] - 19s 2s/step - loss: 0.4347 - acc: 0.8053 - val_loss: 1.2826 - val_acc: 0.6211\n",
            "Epoch 28/100\n",
            "8/8 [==============================] - 19s 2s/step - loss: 0.3416 - acc: 0.8632 - val_loss: 1.4221 - val_acc: 0.6172\n",
            "Epoch 29/100\n",
            "8/8 [==============================] - 19s 2s/step - loss: 0.3458 - acc: 0.8498 - val_loss: 1.5321 - val_acc: 0.6094\n",
            "Epoch 30/100\n",
            "8/8 [==============================] - 22s 3s/step - loss: 0.3644 - acc: 0.8359 - val_loss: 1.7200 - val_acc: 0.5820\n",
            "Epoch 31/100\n",
            "8/8 [==============================] - 17s 2s/step - loss: 0.3792 - acc: 0.8333 - val_loss: 1.4781 - val_acc: 0.6133\n",
            "Epoch 32/100\n",
            "8/8 [==============================] - 19s 2s/step - loss: 0.3267 - acc: 0.8521 - val_loss: 2.0394 - val_acc: 0.5508\n",
            "Epoch 33/100\n",
            "8/8 [==============================] - 19s 2s/step - loss: 0.3111 - acc: 0.8443 - val_loss: 2.0122 - val_acc: 0.5508\n",
            "Epoch 34/100\n",
            "8/8 [==============================] - 22s 3s/step - loss: 0.3434 - acc: 0.8457 - val_loss: 1.0182 - val_acc: 0.6953\n",
            "Epoch 35/100\n",
            "8/8 [==============================] - 19s 2s/step - loss: 0.3449 - acc: 0.8465 - val_loss: 1.5181 - val_acc: 0.6094\n",
            "Epoch 36/100\n",
            "8/8 [==============================] - 19s 2s/step - loss: 0.3057 - acc: 0.8654 - val_loss: 1.0604 - val_acc: 0.6953\n",
            "Epoch 37/100\n",
            "8/8 [==============================] - 19s 2s/step - loss: 0.3627 - acc: 0.8432 - val_loss: 1.9053 - val_acc: 0.5703\n",
            "Epoch 38/100\n",
            "8/8 [==============================] - 19s 2s/step - loss: 0.2480 - acc: 0.8932 - val_loss: 1.9421 - val_acc: 0.5703\n",
            "Epoch 39/100\n",
            "8/8 [==============================] - 19s 2s/step - loss: 0.4617 - acc: 0.8398 - val_loss: 1.5573 - val_acc: 0.6172\n",
            "Epoch 40/100\n",
            "8/8 [==============================] - 22s 3s/step - loss: 0.2863 - acc: 0.8760 - val_loss: 2.1780 - val_acc: 0.5508\n",
            "Epoch 41/100\n",
            "8/8 [==============================] - 17s 2s/step - loss: 0.3125 - acc: 0.8941 - val_loss: 1.3071 - val_acc: 0.6523\n",
            "Epoch 42/100\n",
            "8/8 [==============================] - 22s 3s/step - loss: 0.2522 - acc: 0.8994 - val_loss: 1.7853 - val_acc: 0.5859\n",
            "Epoch 43/100\n",
            "8/8 [==============================] - 19s 2s/step - loss: 0.2406 - acc: 0.8865 - val_loss: 0.9033 - val_acc: 0.7305\n",
            "Epoch 44/100\n",
            "8/8 [==============================] - 19s 2s/step - loss: 0.3236 - acc: 0.8565 - val_loss: 1.3185 - val_acc: 0.6602\n",
            "Epoch 45/100\n",
            "8/8 [==============================] - 19s 2s/step - loss: 0.2284 - acc: 0.8954 - val_loss: 2.4239 - val_acc: 0.5586\n",
            "Epoch 46/100\n",
            "8/8 [==============================] - 19s 2s/step - loss: 0.2503 - acc: 0.9055 - val_loss: 1.7630 - val_acc: 0.6445\n",
            "Epoch 47/100\n",
            "8/8 [==============================] - 19s 2s/step - loss: 0.3017 - acc: 0.8687 - val_loss: 3.5960 - val_acc: 0.5078\n",
            "Epoch 48/100\n",
            "8/8 [==============================] - 19s 2s/step - loss: 0.2463 - acc: 0.8765 - val_loss: 2.1212 - val_acc: 0.5781\n",
            "Epoch 49/100\n",
            "8/8 [==============================] - 22s 3s/step - loss: 0.2227 - acc: 0.9043 - val_loss: 2.3677 - val_acc: 0.5625\n",
            "Epoch 50/100\n",
            "8/8 [==============================] - 19s 2s/step - loss: 0.2666 - acc: 0.8765 - val_loss: 2.0646 - val_acc: 0.5859\n",
            "Epoch 51/100\n",
            "8/8 [==============================] - 19s 2s/step - loss: 0.2864 - acc: 0.8977 - val_loss: 1.8965 - val_acc: 0.6406\n",
            "Epoch 52/100\n",
            "8/8 [==============================] - 19s 2s/step - loss: 0.2750 - acc: 0.8676 - val_loss: 2.4299 - val_acc: 0.5547\n",
            "Epoch 53/100\n",
            "8/8 [==============================] - 19s 2s/step - loss: 0.2101 - acc: 0.9066 - val_loss: 2.9932 - val_acc: 0.5391\n",
            "Epoch 54/100\n",
            "8/8 [==============================] - 19s 2s/step - loss: 0.2220 - acc: 0.9199 - val_loss: 2.0492 - val_acc: 0.6445\n",
            "Epoch 55/100\n",
            "8/8 [==============================] - 19s 2s/step - loss: 0.2588 - acc: 0.8932 - val_loss: 2.2350 - val_acc: 0.6016\n",
            "Epoch 56/100\n",
            "8/8 [==============================] - 19s 2s/step - loss: 0.2620 - acc: 0.8843 - val_loss: 2.7113 - val_acc: 0.5508\n",
            "Epoch 57/100\n",
            "8/8 [==============================] - 22s 3s/step - loss: 0.2760 - acc: 0.8857 - val_loss: 1.3556 - val_acc: 0.6680\n",
            "Epoch 58/100\n",
            "8/8 [==============================] - 19s 2s/step - loss: 0.1788 - acc: 0.9232 - val_loss: 2.4723 - val_acc: 0.5820\n",
            "Epoch 59/100\n",
            "8/8 [==============================] - 19s 2s/step - loss: 0.2270 - acc: 0.9021 - val_loss: 1.9551 - val_acc: 0.6328\n",
            "Epoch 60/100\n",
            "8/8 [==============================] - 17s 2s/step - loss: 0.1967 - acc: 0.9160 - val_loss: 2.8154 - val_acc: 0.5742\n",
            "Epoch 61/100\n",
            "8/8 [==============================] - 22s 3s/step - loss: 0.2478 - acc: 0.9023 - val_loss: 2.5060 - val_acc: 0.5586\n",
            "Epoch 62/100\n",
            "8/8 [==============================] - 19s 2s/step - loss: 0.1980 - acc: 0.9210 - val_loss: 1.3701 - val_acc: 0.7031\n",
            "Epoch 63/100\n",
            "8/8 [==============================] - 19s 2s/step - loss: 0.2944 - acc: 0.9155 - val_loss: 2.0571 - val_acc: 0.6133\n",
            "Epoch 64/100\n",
            "8/8 [==============================] - 19s 2s/step - loss: 0.1841 - acc: 0.9221 - val_loss: 2.2924 - val_acc: 0.6133\n",
            "Epoch 65/100\n",
            "8/8 [==============================] - 19s 2s/step - loss: 0.1976 - acc: 0.9155 - val_loss: 3.0933 - val_acc: 0.5391\n",
            "Epoch 66/100\n",
            "8/8 [==============================] - 19s 2s/step - loss: 0.1825 - acc: 0.9210 - val_loss: 2.5275 - val_acc: 0.5977\n",
            "Epoch 67/100\n",
            "8/8 [==============================] - 22s 3s/step - loss: 0.1888 - acc: 0.9258 - val_loss: 3.2621 - val_acc: 0.5391\n",
            "Epoch 68/100\n",
            "8/8 [==============================] - 17s 2s/step - loss: 0.2764 - acc: 0.8966 - val_loss: 2.9698 - val_acc: 0.5781\n",
            "Epoch 69/100\n",
            "8/8 [==============================] - 19s 2s/step - loss: 0.1779 - acc: 0.9321 - val_loss: 7.3269 - val_acc: 0.5000\n",
            "Epoch 70/100\n",
            "8/8 [==============================] - 22s 3s/step - loss: 0.3214 - acc: 0.8896 - val_loss: 2.7592 - val_acc: 0.6016\n",
            "Epoch 71/100\n",
            "8/8 [==============================] - 19s 2s/step - loss: 0.1535 - acc: 0.9266 - val_loss: 2.6104 - val_acc: 0.6172\n",
            "Epoch 72/100\n",
            "8/8 [==============================] - 19s 2s/step - loss: 0.1640 - acc: 0.9210 - val_loss: 3.6194 - val_acc: 0.5352\n",
            "Epoch 73/100\n",
            "8/8 [==============================] - 22s 3s/step - loss: 0.1598 - acc: 0.9297 - val_loss: 4.2740 - val_acc: 0.5273\n",
            "Epoch 74/100\n",
            "8/8 [==============================] - 17s 2s/step - loss: 0.1608 - acc: 0.9238 - val_loss: 1.6491 - val_acc: 0.6953\n",
            "Epoch 75/100\n",
            "8/8 [==============================] - 22s 3s/step - loss: 0.2149 - acc: 0.8975 - val_loss: 3.4253 - val_acc: 0.5430\n",
            "Epoch 76/100\n",
            "8/8 [==============================] - 19s 2s/step - loss: 0.1416 - acc: 0.9399 - val_loss: 3.6416 - val_acc: 0.5547\n",
            "Epoch 77/100\n",
            "8/8 [==============================] - 17s 2s/step - loss: 0.3188 - acc: 0.8966 - val_loss: 2.6560 - val_acc: 0.6133\n",
            "Epoch 78/100\n",
            "8/8 [==============================] - 19s 2s/step - loss: 0.1785 - acc: 0.9355 - val_loss: 3.0591 - val_acc: 0.5859\n",
            "Epoch 79/100\n",
            "8/8 [==============================] - 22s 3s/step - loss: 0.1567 - acc: 0.9434 - val_loss: 2.6077 - val_acc: 0.6328\n",
            "Epoch 80/100\n",
            "8/8 [==============================] - 19s 2s/step - loss: 0.1389 - acc: 0.9466 - val_loss: 2.5326 - val_acc: 0.6406\n",
            "Epoch 81/100\n",
            "8/8 [==============================] - 19s 2s/step - loss: 0.1714 - acc: 0.9221 - val_loss: 3.2475 - val_acc: 0.5664\n",
            "Epoch 82/100\n",
            "8/8 [==============================] - 19s 2s/step - loss: 0.2109 - acc: 0.9077 - val_loss: 3.0977 - val_acc: 0.5625\n",
            "Epoch 83/100\n",
            "8/8 [==============================] - 19s 2s/step - loss: 0.1650 - acc: 0.9266 - val_loss: 2.5788 - val_acc: 0.6250\n",
            "Epoch 84/100\n",
            "8/8 [==============================] - 22s 3s/step - loss: 0.1449 - acc: 0.9424 - val_loss: 2.6358 - val_acc: 0.6250\n",
            "Epoch 85/100\n",
            "8/8 [==============================] - 17s 2s/step - loss: 0.1657 - acc: 0.9264 - val_loss: 2.7649 - val_acc: 0.6094\n",
            "Epoch 86/100\n",
            "8/8 [==============================] - 22s 3s/step - loss: 0.1407 - acc: 0.9453 - val_loss: 4.6632 - val_acc: 0.5312\n",
            "Epoch 87/100\n",
            "8/8 [==============================] - 19s 2s/step - loss: 0.2126 - acc: 0.9110 - val_loss: 1.6017 - val_acc: 0.6836\n",
            "Epoch 88/100\n",
            "8/8 [==============================] - 19s 2s/step - loss: 0.1467 - acc: 0.9466 - val_loss: 3.3008 - val_acc: 0.6016\n",
            "Epoch 89/100\n",
            "8/8 [==============================] - 19s 2s/step - loss: 0.1392 - acc: 0.9299 - val_loss: 2.0776 - val_acc: 0.6680\n",
            "Epoch 90/100\n",
            "8/8 [==============================] - 19s 2s/step - loss: 0.1619 - acc: 0.9177 - val_loss: 3.3443 - val_acc: 0.5977\n",
            "Epoch 91/100\n",
            "8/8 [==============================] - 19s 2s/step - loss: 0.1677 - acc: 0.9299 - val_loss: 2.8514 - val_acc: 0.6094\n",
            "Epoch 92/100\n",
            "8/8 [==============================] - 19s 2s/step - loss: 0.1474 - acc: 0.9288 - val_loss: 3.9951 - val_acc: 0.5430\n",
            "Epoch 93/100\n",
            "8/8 [==============================] - 22s 3s/step - loss: 0.1330 - acc: 0.9463 - val_loss: 3.1759 - val_acc: 0.6016\n",
            "Epoch 94/100\n",
            "8/8 [==============================] - 17s 2s/step - loss: 0.1983 - acc: 0.9173 - val_loss: 2.6907 - val_acc: 0.6406\n",
            "Epoch 95/100\n",
            "8/8 [==============================] - 22s 3s/step - loss: 0.1350 - acc: 0.9531 - val_loss: 4.8805 - val_acc: 0.5312\n",
            "Epoch 96/100\n",
            "8/8 [==============================] - 19s 2s/step - loss: 0.2087 - acc: 0.9132 - val_loss: 3.2400 - val_acc: 0.6094\n",
            "Epoch 97/100\n",
            "8/8 [==============================] - 19s 2s/step - loss: 0.1529 - acc: 0.9444 - val_loss: 2.9104 - val_acc: 0.6367\n",
            "Epoch 98/100\n",
            "8/8 [==============================] - 19s 2s/step - loss: 0.1059 - acc: 0.9666 - val_loss: 3.1673 - val_acc: 0.6133\n",
            "Epoch 99/100\n",
            "8/8 [==============================] - 19s 2s/step - loss: 0.1412 - acc: 0.9388 - val_loss: 4.9212 - val_acc: 0.5312\n",
            "Epoch 100/100\n",
            "8/8 [==============================] - 19s 2s/step - loss: 0.1205 - acc: 0.9433 - val_loss: 3.3263 - val_acc: 0.6172\n"
          ],
          "name": "stdout"
        }
      ]
    },
    {
      "cell_type": "code",
      "metadata": {
        "id": "7zNPRWOVJdOH",
        "colab_type": "code",
        "colab": {
          "base_uri": "https://localhost:8080/",
          "height": 545
        },
        "outputId": "2441b81e-6712-4a51-d962-71451e132073"
      },
      "source": [
        "import matplotlib.pyplot as plt\n",
        "acc = history.history['acc']\n",
        "val_acc = history.history['val_acc']\n",
        "loss = history.history['loss']\n",
        "val_loss = history.history['val_loss']\n",
        "\n",
        "epochs = range(len(acc))\n",
        "\n",
        "plt.plot(epochs, acc, 'r', label='Training accuracy')\n",
        "plt.plot(epochs, val_acc, 'b', label='Validation accuracy')\n",
        "plt.title('Training and validation accuracy')\n",
        "\n",
        "plt.figure()\n",
        "\n",
        "plt.plot(epochs, loss, 'r', label='Training Loss')\n",
        "plt.plot(epochs, val_loss, 'b', label='Validation Loss')\n",
        "plt.title('Training and validation loss')\n",
        "plt.legend()\n",
        "\n",
        "plt.show()"
      ],
      "execution_count": 7,
      "outputs": [
        {
          "output_type": "display_data",
          "data": {
            "image/png": "[encoded data removed]",
            "text/plain": [
              "<Figure size 432x288 with 1 Axes>"
            ]
          },
          "metadata": {
            "tags": []
          }
        },
        {
          "output_type": "display_data",
          "data": {
            "image/png": "[encoded data removed]",
            "text/plain": [
              "<Figure size 432x288 with 1 Axes>"
            ]
          },
          "metadata": {
            "tags": []
          }
        }
      ]
    }
  ]
}