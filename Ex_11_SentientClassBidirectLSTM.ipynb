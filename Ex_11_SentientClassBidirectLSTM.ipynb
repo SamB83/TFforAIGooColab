{
  "nbformat": 4,
  "nbformat_minor": 0,
  "metadata": {
    "colab": {
      "name": "Ex-11-SentientClassBidirectLSTM.ipynb",
      "version": "0.3.2",
      "provenance": [],
      "include_colab_link": true
    },
    "kernelspec": {
      "name": "python3",
      "display_name": "Python 3"
    },
    "accelerator": "GPU"
  },
  "cells": [
    {
      "cell_type": "markdown",
      "metadata": {
        "id": "view-in-github",
        "colab_type": "text"
      },
      "source": [
        "<a href=\"https://colab.research.google.com/github/SamB83/TFforAIGooColab/blob/master/Ex_11_SentientClassBidirectLSTM.ipynb\" target=\"_parent\"><img src=\"https://colab.research.google.com/assets/colab-badge.svg\" alt=\"Open In Colab\"/></a>"
      ]
    },
    {
      "cell_type": "code",
      "metadata": {
        "id": "hmA6EzkQJ5jt",
        "colab_type": "code",
        "colab": {}
      },
      "source": [
        "import json\n",
        "import tensorflow as tf\n",
        "import csv\n",
        "import random\n",
        "import numpy as np\n",
        "\n",
        "from tensorflow.keras.preprocessing.text import Tokenizer\n",
        "from tensorflow.keras.preprocessing.sequence import pad_sequences\n",
        "from tensorflow.keras.utils import to_categorical\n",
        "from tensorflow.keras import regularizers\n",
        "\n",
        "\n",
        "embedding_dim = 100\n",
        "max_length = 16\n",
        "trunc_type='post'\n",
        "padding_type='post'\n",
        "oov_tok = \"<OOV>\"\n",
        "training_size=160000#Your dataset size here. Experiment using smaller values (i.e. 16000), but don't forget to train on at least 160000 to see the best effects\n",
        "test_portion=.1\n",
        "\n",
        "corpus = []\n"
      ],
      "execution_count": 0,
      "outputs": []
    },
    {
      "cell_type": "code",
      "metadata": {
        "id": "bM0l_dORKqE0",
        "colab_type": "code",
        "outputId": "63dde233-11f9-4885-da24-118d615a8dd4",
        "colab": {
          "base_uri": "https://localhost:8080/",
          "height": 208
        }
      },
      "source": [
        "\n",
        "# Note that I cleaned the Stanford dataset to remove LATIN1 encoding to make it easier for Python CSV reader\n",
        "# You can do that yourself with:\n",
        "# iconv -f LATIN1 -t UTF8 training.1600000.processed.noemoticon.csv -o training_cleaned.csv\n",
        "# I then hosted it on my site to make it easier to use in this notebook\n",
        "\n",
        "!wget --no-check-certificate \\\n",
        "    https://storage.googleapis.com/laurencemoroney-blog.appspot.com/training_cleaned.csv \\\n",
        "    -O /tmp/training_cleaned.csv\n",
        "\n",
        "num_sentences = 0\n",
        "\n",
        "with open(\"/tmp/training_cleaned.csv\") as csvfile:\n",
        "    reader = csv.reader(csvfile, delimiter=',')\n",
        "    for row in reader:\n",
        "      # Your Code here. Create list items where the first item is the text, found in row[5], and the second is the label. Note that the label is a '0' or a '4' in the text. When it's the former, make\n",
        "      # your label to be 0, otherwise 1. Keep a count of the number of sentences in num_sentences\n",
        "        list_item=[]\n",
        "        # YOUR CODE HERE\n",
        "        list_item.append(row[5])\n",
        "        if (row[0] != '0'):\n",
        "          list_item.append(int(1))\n",
        "        else:\n",
        "          list_item.append(int(0))        \n",
        "        num_sentences = num_sentences + 1\n",
        "        corpus.append(list_item)\n",
        "\n",
        "\n"
      ],
      "execution_count": 0,
      "outputs": [
        {
          "output_type": "stream",
          "text": [
            "--2019-07-08 23:11:32--  https://storage.googleapis.com/laurencemoroney-blog.appspot.com/training_cleaned.csv\n",
            "Resolving storage.googleapis.com (storage.googleapis.com)... 172.217.212.128, 2607:f8b0:4001:c03::80\n",
            "Connecting to storage.googleapis.com (storage.googleapis.com)|172.217.212.128|:443... connected.\n",
            "HTTP request sent, awaiting response... 200 OK\n",
            "Length: 238942690 (228M) [application/octet-stream]\n",
            "Saving to: ‘/tmp/training_cleaned.csv’\n",
            "\n",
            "/tmp/training_clean 100%[===================>] 227.87M   117MB/s    in 1.9s    \n",
            "\n",
            "2019-07-08 23:11:39 (117 MB/s) - ‘/tmp/training_cleaned.csv’ saved [238942690/238942690]\n",
            "\n"
          ],
          "name": "stdout"
        }
      ]
    },
    {
      "cell_type": "code",
      "metadata": {
        "id": "3kxblBUjEUX-",
        "colab_type": "code",
        "outputId": "0881ecd6-8b2c-4637-aaba-9c298aa20d3f",
        "colab": {
          "base_uri": "https://localhost:8080/",
          "height": 69
        }
      },
      "source": [
        "print(num_sentences)\n",
        "print(len(corpus))\n",
        "print(corpus[1])\n",
        "\n",
        "# Expected Output:\n",
        "# 1600000\n",
        "# 1600000\n",
        "# [\"is upset that he can't update his Facebook by texting it... and might cry as a result  School today also. Blah!\", 0]"
      ],
      "execution_count": 0,
      "outputs": [
        {
          "output_type": "stream",
          "text": [
            "1600000\n",
            "1600000\n",
            "[\"is upset that he can't update his Facebook by texting it... and might cry as a result  School today also. Blah!\", 0]\n"
          ],
          "name": "stdout"
        }
      ]
    },
    {
      "cell_type": "code",
      "metadata": {
        "id": "ohOGz24lsNAD",
        "colab_type": "code",
        "colab": {}
      },
      "source": [
        "sentences=[]\n",
        "labels=[]\n",
        "random.shuffle(corpus)\n",
        "for x in range(training_size):\n",
        "    sentences.append(corpus[x][0])\n",
        "    labels.append(int(corpus[x][1]))\n",
        "\n",
        "\n",
        "tokenizer = Tokenizer()\n",
        "tokenizer.fit_on_texts(sentences)\n",
        "\n",
        "word_index = tokenizer.word_index\n",
        "vocab_size=len(word_index)\n",
        "\n",
        "sequences = tokenizer.texts_to_sequences(sentences)\n",
        "padded = pad_sequences(sequences, padding=padding_type, maxlen=max_length)\n",
        "\n",
        "split = int(test_portion * training_size)\n",
        "\n",
        "test_sequences = padded[0:split]\n",
        "training_sequences = padded[split:]\n",
        "test_labels = labels[0:split]\n",
        "training_labels = labels[split:]"
      ],
      "execution_count": 0,
      "outputs": []
    },
    {
      "cell_type": "code",
      "metadata": {
        "id": "gIrtRem1En3N",
        "colab_type": "code",
        "outputId": "d0a42043-7201-4b8f-bf89-f34cb49b2f90",
        "colab": {
          "base_uri": "https://localhost:8080/",
          "height": 121
        }
      },
      "source": [
        "print(vocab_size)\n",
        "print(word_index['i'])\n",
        "# Expected Output\n",
        "# 138858\n",
        "# 1\n",
        "print(sentences[1])\n",
        "print(labels[1])\n",
        "print(len(sentences))\n",
        "print(len(labels))"
      ],
      "execution_count": 0,
      "outputs": [
        {
          "output_type": "stream",
          "text": [
            "138566\n",
            "1\n",
            "zomg! real firefox 3.5 with new icon! i... don't like it \n",
            "0\n",
            "160000\n",
            "160000\n"
          ],
          "name": "stdout"
        }
      ]
    },
    {
      "cell_type": "code",
      "metadata": {
        "id": "C1zdgJkusRh0",
        "colab_type": "code",
        "outputId": "cf0fbf33-1f7b-4f13-b68c-a7d1da12d0c9",
        "colab": {
          "base_uri": "https://localhost:8080/",
          "height": 208
        }
      },
      "source": [
        "# Note this is the 100 dimension version of GloVe from Stanford\n",
        "# I unzipped and hosted it on my site to make this notebook easier\n",
        "!wget --no-check-certificate \\\n",
        "    https://storage.googleapis.com/laurencemoroney-blog.appspot.com/glove.6B.100d.txt \\\n",
        "    -O /tmp/glove.6B.100d.txt\n",
        "embeddings_index = {};\n",
        "with open('/tmp/glove.6B.100d.txt') as f:\n",
        "    for line in f:\n",
        "        values = line.split();\n",
        "        word = values[0];\n",
        "        coefs = np.asarray(values[1:], dtype='float32');\n",
        "        embeddings_index[word] = coefs;\n",
        "\n",
        "embeddings_matrix = np.zeros((vocab_size+1, embedding_dim));\n",
        "for word, i in word_index.items():\n",
        "    embedding_vector = embeddings_index.get(word);\n",
        "    if embedding_vector is not None:\n",
        "        embeddings_matrix[i] = embedding_vector;"
      ],
      "execution_count": 0,
      "outputs": [
        {
          "output_type": "stream",
          "text": [
            "--2019-07-08 23:13:11--  https://storage.googleapis.com/laurencemoroney-blog.appspot.com/glove.6B.100d.txt\n",
            "Resolving storage.googleapis.com (storage.googleapis.com)... 173.194.198.128, 2607:f8b0:4001:c05::80\n",
            "Connecting to storage.googleapis.com (storage.googleapis.com)|173.194.198.128|:443... connected.\n",
            "HTTP request sent, awaiting response... 200 OK\n",
            "Length: 347116733 (331M) [text/plain]\n",
            "Saving to: ‘/tmp/glove.6B.100d.txt’\n",
            "\n",
            "/tmp/glove.6B.100d. 100%[===================>] 331.04M   133MB/s    in 2.5s    \n",
            "\n",
            "2019-07-08 23:13:14 (133 MB/s) - ‘/tmp/glove.6B.100d.txt’ saved [347116733/347116733]\n",
            "\n"
          ],
          "name": "stdout"
        }
      ]
    },
    {
      "cell_type": "code",
      "metadata": {
        "id": "71NLk_lpFLNt",
        "colab_type": "code",
        "outputId": "e60c70d9-73b8-40f0-e21b-974e831dbe46",
        "colab": {
          "base_uri": "https://localhost:8080/",
          "height": 34
        }
      },
      "source": [
        "print(len(embeddings_matrix))\n",
        "# Expected Output\n",
        "# 138859"
      ],
      "execution_count": 0,
      "outputs": [
        {
          "output_type": "stream",
          "text": [
            "138567\n"
          ],
          "name": "stdout"
        }
      ]
    },
    {
      "cell_type": "code",
      "metadata": {
        "colab_type": "code",
        "id": "iKKvbuEBOGFz",
        "outputId": "4c4a4c10-c392-4d31-f56d-8fa2796c67e5",
        "colab": {
          "base_uri": "https://localhost:8080/",
          "height": 1000
        }
      },
      "source": [
        "model = tf.keras.Sequential([\n",
        "    tf.keras.layers.Embedding(vocab_size+1, embedding_dim, input_length=max_length, weights=[embeddings_matrix], trainable=False),\n",
        "    # YOUR CODE HERE - experiment with combining different types, such as convolutions and LSTMs\n",
        "    tf.keras.layers.Bidirectional(tf.keras.layers.LSTM(32)),\n",
        "    tf.keras.layers.Dense(24, activation='relu'),\n",
        "    tf.keras.layers.Dense(1, activation='sigmoid')\n",
        "])\n",
        "model.compile(loss='binary_crossentropy',optimizer='adam',metrics=['accuracy'])\n",
        "model.summary()\n",
        "\n",
        "num_epochs = 50\n",
        "history = model.fit(training_sequences, training_labels, epochs=num_epochs, validation_data=(test_sequences, test_labels), verbose=2)\n",
        "\n",
        "print(\"Training Complete\")\n"
      ],
      "execution_count": 0,
      "outputs": [
        {
          "output_type": "stream",
          "text": [
            "W0708 23:42:43.912446 140484614584192 deprecation.py:506] From /usr/local/lib/python3.6/dist-packages/tensorflow/python/ops/init_ops.py:97: calling GlorotUniform.__init__ (from tensorflow.python.ops.init_ops) with dtype is deprecated and will be removed in a future version.\n",
            "Instructions for updating:\n",
            "Call initializer instance with the dtype argument instead of passing it to the constructor\n",
            "W0708 23:42:43.914243 140484614584192 deprecation.py:506] From /usr/local/lib/python3.6/dist-packages/tensorflow/python/ops/init_ops.py:97: calling Orthogonal.__init__ (from tensorflow.python.ops.init_ops) with dtype is deprecated and will be removed in a future version.\n",
            "Instructions for updating:\n",
            "Call initializer instance with the dtype argument instead of passing it to the constructor\n",
            "W0708 23:42:43.917677 140484614584192 deprecation.py:506] From /usr/local/lib/python3.6/dist-packages/tensorflow/python/ops/init_ops.py:97: calling Zeros.__init__ (from tensorflow.python.ops.init_ops) with dtype is deprecated and will be removed in a future version.\n",
            "Instructions for updating:\n",
            "Call initializer instance with the dtype argument instead of passing it to the constructor\n"
          ],
          "name": "stderr"
        },
        {
          "output_type": "stream",
          "text": [
            "Model: \"sequential_1\"\n",
            "_________________________________________________________________\n",
            "Layer (type)                 Output Shape              Param #   \n",
            "=================================================================\n",
            "embedding_1 (Embedding)      (None, 16, 100)           13856700  \n",
            "_________________________________________________________________\n",
            "bidirectional (Bidirectional (None, 64)                34048     \n",
            "_________________________________________________________________\n",
            "dense_2 (Dense)              (None, 24)                1560      \n",
            "_________________________________________________________________\n",
            "dense_3 (Dense)              (None, 1)                 25        \n",
            "=================================================================\n",
            "Total params: 13,892,333\n",
            "Trainable params: 35,633\n",
            "Non-trainable params: 13,856,700\n",
            "_________________________________________________________________\n",
            "Train on 144000 samples, validate on 16000 samples\n",
            "Epoch 1/50\n",
            "144000/144000 - 251s - loss: 0.5333 - acc: 0.7284 - val_loss: 0.5041 - val_acc: 0.7489\n",
            "Epoch 2/50\n",
            "144000/144000 - 250s - loss: 0.4799 - acc: 0.7670 - val_loss: 0.4823 - val_acc: 0.7638\n",
            "Epoch 3/50\n",
            "144000/144000 - 250s - loss: 0.4585 - acc: 0.7811 - val_loss: 0.4732 - val_acc: 0.7726\n",
            "Epoch 4/50\n",
            "144000/144000 - 251s - loss: 0.4423 - acc: 0.7916 - val_loss: 0.4722 - val_acc: 0.7752\n",
            "Epoch 5/50\n",
            "144000/144000 - 250s - loss: 0.4283 - acc: 0.8001 - val_loss: 0.4677 - val_acc: 0.7789\n",
            "Epoch 6/50\n",
            "144000/144000 - 250s - loss: 0.4170 - acc: 0.8069 - val_loss: 0.4704 - val_acc: 0.7789\n",
            "Epoch 7/50\n",
            "144000/144000 - 250s - loss: 0.4058 - acc: 0.8124 - val_loss: 0.4700 - val_acc: 0.7757\n",
            "Epoch 8/50\n",
            "144000/144000 - 251s - loss: 0.3951 - acc: 0.8187 - val_loss: 0.4802 - val_acc: 0.7742\n",
            "Epoch 9/50\n",
            "144000/144000 - 250s - loss: 0.3861 - acc: 0.8243 - val_loss: 0.4791 - val_acc: 0.7777\n",
            "Epoch 10/50\n",
            "144000/144000 - 249s - loss: 0.3764 - acc: 0.8288 - val_loss: 0.4878 - val_acc: 0.7701\n",
            "Epoch 11/50\n",
            "144000/144000 - 248s - loss: 0.3679 - acc: 0.8333 - val_loss: 0.4951 - val_acc: 0.7706\n",
            "Epoch 12/50\n",
            "144000/144000 - 249s - loss: 0.3598 - acc: 0.8375 - val_loss: 0.5081 - val_acc: 0.7701\n",
            "Epoch 13/50\n",
            "144000/144000 - 248s - loss: 0.3522 - acc: 0.8416 - val_loss: 0.5138 - val_acc: 0.7644\n",
            "Epoch 14/50\n",
            "144000/144000 - 247s - loss: 0.3444 - acc: 0.8456 - val_loss: 0.5233 - val_acc: 0.7646\n",
            "Epoch 15/50\n",
            "144000/144000 - 247s - loss: 0.3378 - acc: 0.8497 - val_loss: 0.5497 - val_acc: 0.7619\n",
            "Epoch 16/50\n",
            "144000/144000 - 247s - loss: 0.3304 - acc: 0.8531 - val_loss: 0.5449 - val_acc: 0.7603\n",
            "Epoch 17/50\n",
            "144000/144000 - 247s - loss: 0.3240 - acc: 0.8568 - val_loss: 0.5556 - val_acc: 0.7579\n",
            "Epoch 18/50\n",
            "144000/144000 - 247s - loss: 0.3180 - acc: 0.8595 - val_loss: 0.5705 - val_acc: 0.7558\n",
            "Epoch 19/50\n",
            "144000/144000 - 247s - loss: 0.3123 - acc: 0.8628 - val_loss: 0.5908 - val_acc: 0.7564\n",
            "Epoch 20/50\n",
            "144000/144000 - 246s - loss: 0.3066 - acc: 0.8657 - val_loss: 0.5974 - val_acc: 0.7554\n",
            "Epoch 21/50\n",
            "144000/144000 - 246s - loss: 0.3007 - acc: 0.8682 - val_loss: 0.6125 - val_acc: 0.7541\n",
            "Epoch 22/50\n",
            "144000/144000 - 247s - loss: 0.2958 - acc: 0.8695 - val_loss: 0.6102 - val_acc: 0.7534\n",
            "Epoch 23/50\n",
            "144000/144000 - 245s - loss: 0.2905 - acc: 0.8721 - val_loss: 0.6374 - val_acc: 0.7464\n",
            "Epoch 24/50\n",
            "144000/144000 - 245s - loss: 0.2857 - acc: 0.8759 - val_loss: 0.6396 - val_acc: 0.7508\n",
            "Epoch 25/50\n",
            "144000/144000 - 246s - loss: 0.2810 - acc: 0.8768 - val_loss: 0.6615 - val_acc: 0.7508\n",
            "Epoch 26/50\n",
            "144000/144000 - 246s - loss: 0.2766 - acc: 0.8795 - val_loss: 0.6691 - val_acc: 0.7461\n",
            "Epoch 27/50\n",
            "144000/144000 - 246s - loss: 0.2719 - acc: 0.8809 - val_loss: 0.6827 - val_acc: 0.7451\n",
            "Epoch 28/50\n",
            "144000/144000 - 244s - loss: 0.2685 - acc: 0.8823 - val_loss: 0.7134 - val_acc: 0.7459\n",
            "Epoch 29/50\n",
            "144000/144000 - 242s - loss: 0.2648 - acc: 0.8842 - val_loss: 0.7182 - val_acc: 0.7441\n",
            "Epoch 30/50\n",
            "144000/144000 - 242s - loss: 0.2608 - acc: 0.8862 - val_loss: 0.7429 - val_acc: 0.7439\n",
            "Epoch 31/50\n",
            "144000/144000 - 241s - loss: 0.2569 - acc: 0.8880 - val_loss: 0.7459 - val_acc: 0.7442\n",
            "Epoch 32/50\n",
            "144000/144000 - 238s - loss: 0.2540 - acc: 0.8891 - val_loss: 0.7622 - val_acc: 0.7430\n",
            "Epoch 33/50\n",
            "144000/144000 - 239s - loss: 0.2506 - acc: 0.8904 - val_loss: 0.7696 - val_acc: 0.7454\n",
            "Epoch 34/50\n",
            "144000/144000 - 238s - loss: 0.2475 - acc: 0.8916 - val_loss: 0.7873 - val_acc: 0.7406\n",
            "Epoch 35/50\n",
            "144000/144000 - 238s - loss: 0.2437 - acc: 0.8938 - val_loss: 0.7835 - val_acc: 0.7394\n",
            "Epoch 36/50\n",
            "144000/144000 - 237s - loss: 0.2412 - acc: 0.8943 - val_loss: 0.7907 - val_acc: 0.7376\n",
            "Epoch 37/50\n",
            "144000/144000 - 238s - loss: 0.2378 - acc: 0.8969 - val_loss: 0.8176 - val_acc: 0.7423\n",
            "Epoch 38/50\n",
            "144000/144000 - 237s - loss: 0.2355 - acc: 0.8973 - val_loss: 0.8420 - val_acc: 0.7368\n",
            "Epoch 39/50\n",
            "144000/144000 - 238s - loss: 0.2331 - acc: 0.8989 - val_loss: 0.8420 - val_acc: 0.7430\n",
            "Epoch 40/50\n",
            "144000/144000 - 236s - loss: 0.2308 - acc: 0.8986 - val_loss: 0.8695 - val_acc: 0.7347\n",
            "Epoch 41/50\n",
            "144000/144000 - 235s - loss: 0.2281 - acc: 0.9000 - val_loss: 0.8884 - val_acc: 0.7396\n",
            "Epoch 42/50\n",
            "144000/144000 - 237s - loss: 0.2261 - acc: 0.9020 - val_loss: 0.9024 - val_acc: 0.7325\n",
            "Epoch 43/50\n",
            "144000/144000 - 235s - loss: 0.2244 - acc: 0.9021 - val_loss: 0.9263 - val_acc: 0.7372\n",
            "Epoch 44/50\n",
            "144000/144000 - 236s - loss: 0.2219 - acc: 0.9035 - val_loss: 0.8816 - val_acc: 0.7372\n",
            "Epoch 45/50\n",
            "144000/144000 - 236s - loss: 0.2196 - acc: 0.9055 - val_loss: 0.9335 - val_acc: 0.7352\n",
            "Epoch 46/50\n",
            "144000/144000 - 236s - loss: 0.2171 - acc: 0.9064 - val_loss: 0.9400 - val_acc: 0.7362\n",
            "Epoch 47/50\n",
            "144000/144000 - 237s - loss: 0.2153 - acc: 0.9065 - val_loss: 0.9745 - val_acc: 0.7374\n",
            "Epoch 48/50\n",
            "144000/144000 - 237s - loss: 0.2134 - acc: 0.9078 - val_loss: 0.9276 - val_acc: 0.7379\n",
            "Epoch 49/50\n",
            "144000/144000 - 237s - loss: 0.2109 - acc: 0.9091 - val_loss: 1.0069 - val_acc: 0.7360\n",
            "Epoch 50/50\n",
            "144000/144000 - 236s - loss: 0.2100 - acc: 0.9087 - val_loss: 0.9547 - val_acc: 0.7367\n",
            "Training Complete\n"
          ],
          "name": "stdout"
        }
      ]
    },
    {
      "cell_type": "code",
      "metadata": {
        "id": "qxju4ItJKO8F",
        "colab_type": "code",
        "outputId": "c8a0a429-72e9-4eb3-bdaf-b459a4ff9917",
        "colab": {
          "base_uri": "https://localhost:8080/",
          "height": 608
        }
      },
      "source": [
        "import matplotlib.image  as mpimg\n",
        "import matplotlib.pyplot as plt\n",
        "\n",
        "#-----------------------------------------------------------\n",
        "# Retrieve a list of list results on training and test data\n",
        "# sets for each training epoch\n",
        "#-----------------------------------------------------------\n",
        "acc=history.history['acc']\n",
        "val_acc=history.history['val_acc']\n",
        "loss=history.history['loss']\n",
        "val_loss=history.history['val_loss']\n",
        "\n",
        "epochs=range(len(acc)) # Get number of epochs\n",
        "\n",
        "#------------------------------------------------\n",
        "# Plot training and validation accuracy per epoch\n",
        "#------------------------------------------------\n",
        "plt.plot(epochs, acc, 'r')\n",
        "plt.plot(epochs, val_acc, 'b')\n",
        "plt.title('Training and validation accuracy')\n",
        "plt.xlabel(\"Epochs\")\n",
        "plt.ylabel(\"Accuracy\")\n",
        "plt.legend([\"Accuracy\", \"Validation Accuracy\"])\n",
        "\n",
        "plt.figure()\n",
        "\n",
        "#------------------------------------------------\n",
        "# Plot training and validation loss per epoch\n",
        "#------------------------------------------------\n",
        "plt.plot(epochs, loss, 'r')\n",
        "plt.plot(epochs, val_loss, 'b')\n",
        "plt.title('Training and validation loss')\n",
        "plt.xlabel(\"Epochs\")\n",
        "plt.ylabel(\"Loss\")\n",
        "plt.legend([\"Loss\", \"Validation Loss\"])\n",
        "\n",
        "plt.figure()\n",
        "\n",
        "\n",
        "# Expected Output\n",
        "# A chart where the validation loss does not increase sharply!"
      ],
      "execution_count": 0,
      "outputs": [
        {
          "output_type": "execute_result",
          "data": {
            "text/plain": [
              "<Figure size 432x288 with 0 Axes>"
            ]
          },
          "metadata": {
            "tags": []
          },
          "execution_count": 12
        },
        {
          "output_type": "display_data",
          "data": {
            "image/png": "[encoded data removed]",
            "text/plain": [
              "<Figure size 432x288 with 1 Axes>"
            ]
          },
          "metadata": {
            "tags": []
          }
        },
        {
          "output_type": "display_data",
          "data": {
            "image/png": "[encoded data removed]",
            "text/plain": [
              "<Figure size 432x288 with 1 Axes>"
            ]
          },
          "metadata": {
            "tags": []
          }
        },
        {
          "output_type": "display_data",
          "data": {
            "text/plain": [
              "<Figure size 432x288 with 0 Axes>"
            ]
          },
          "metadata": {
            "tags": []
          }
        }
      ]
    }
  ]
}